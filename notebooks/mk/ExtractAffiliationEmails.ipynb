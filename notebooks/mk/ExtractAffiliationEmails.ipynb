{
 "cells": [
  {
   "cell_type": "code",
   "execution_count": null,
   "metadata": {},
   "outputs": [],
   "source": [
    "import os\n",
    "SOURCE_DIR = '../data/arxiv_dump/sources'\n",
    "sources = [f for f in os.listdir(SOURCE_DIR) if not f.endswith(\"tar.gz\")]"
   ]
  },
  {
   "cell_type": "code",
   "execution_count": null,
   "metadata": {},
   "outputs": [],
   "source": [
    "def get_all_files(s):\n",
    "    paper_dir = os.path.join(SOURCE_DIR, s)\n",
    "    return [os.path.join(paper_dir, f) for f in os.listdir(paper_dir)]\n",
    "\n",
    "\n",
    "def get_tex_files(s):\n",
    "    return [f for f in get_all_files(s) if f.endswith(\".tex\")]\n",
    "\n",
    "def clean_text(text, prune_document=True):\n",
    "    pos = text.find(\"\\\\begin{abstract}\")\n",
    "    if pos >= 0:\n",
    "        text = text[:pos]\n",
    "    lines = text.split(\"\\n\")\n",
    "    lines = [line for line in lines if not line.startswith(\"%\")]\n",
    "    return \"\\n\".join(lines)\n",
    "\n",
    "\n",
    "def get_text(path):\n",
    "    with open(path, \"r\") as f:\n",
    "        try:\n",
    "            return f.read()\n",
    "        except UnicodeDecodeError:\n",
    "            # print('Failed to read the file {}'.format(path))\n",
    "            return \"\"\n"
   ]
  },
  {
   "cell_type": "code",
   "execution_count": null,
   "metadata": {},
   "outputs": [],
   "source": [
    "get_tex_files(sources[10])"
   ]
  },
  {
   "cell_type": "code",
   "execution_count": null,
   "metadata": {},
   "outputs": [],
   "source": [
    "import re\n",
    "affiliations_dict = dict()\n",
    "for s in sources:\n",
    "    emails = []\n",
    "    tex_files = get_tex_files(s)\n",
    "    for f in tex_files:\n",
    "        text = clean_text(get_text(f))\n",
    "        emails += re.findall('@[a-z-_\\.]+\\.[a-z-_\\.]+', text)\n",
    "    affiliations_dict[s] = set(emails)"
   ]
  },
  {
   "cell_type": "code",
   "execution_count": null,
   "metadata": {},
   "outputs": [],
   "source": [
    "affiliations_dict"
   ]
  },
  {
   "cell_type": "code",
   "execution_count": null,
   "metadata": {},
   "outputs": [],
   "source": [
    "len(affiliations_dict)"
   ]
  },
  {
   "cell_type": "code",
   "execution_count": null,
   "metadata": {},
   "outputs": [],
   "source": [
    "sum(len(values) == 0 for values in affiliations_dict.values())"
   ]
  },
  {
   "cell_type": "code",
   "execution_count": null,
   "metadata": {},
   "outputs": [],
   "source": [
    "from collections import Counter"
   ]
  },
  {
   "cell_type": "code",
   "execution_count": null,
   "metadata": {},
   "outputs": [],
   "source": [
    "affiliations_count = Counter()"
   ]
  },
  {
   "cell_type": "code",
   "execution_count": null,
   "metadata": {},
   "outputs": [],
   "source": [
    "for aff in affiliations_dict.values():\n",
    "    affiliations_count.update(aff)"
   ]
  },
  {
   "cell_type": "code",
   "execution_count": null,
   "metadata": {},
   "outputs": [],
   "source": [
    "affiliations_count.most_common(100)"
   ]
  },
  {
   "cell_type": "code",
   "execution_count": null,
   "metadata": {},
   "outputs": [],
   "source": []
  }
 ],
 "metadata": {
  "kernelspec": {
   "display_name": "Python 3",
   "language": "python",
   "name": "python3"
  },
  "language_info": {
   "codemirror_mode": {
    "name": "ipython",
    "version": 3
   },
   "file_extension": ".py",
   "mimetype": "text/x-python",
   "name": "python",
   "nbconvert_exporter": "python",
   "pygments_lexer": "ipython3",
   "version": "3.6.10"
  }
 },
 "nbformat": 4,
 "nbformat_minor": 4
}
