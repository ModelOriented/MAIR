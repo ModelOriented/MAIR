{
 "cells": [
  {
   "cell_type": "code",
   "execution_count": null,
   "metadata": {},
   "outputs": [],
   "source": [
    "import pandas as pd\n",
    "import spacy.lang.en\n",
    "import plotly.express as px\n",
    "from mair import papers_processing_utils"
   ]
  },
  {
   "cell_type": "code",
   "execution_count": null,
   "metadata": {},
   "outputs": [],
   "source": [
    "ARXIV_DUMP_PATH = '../data/arxiv_dump/search_results.json'"
   ]
  },
  {
   "cell_type": "code",
   "execution_count": null,
   "metadata": {},
   "outputs": [],
   "source": [
    "arxiv_papers = pd.read_json(path_or_buf=ARXIV_DUMP_PATH, orient='index')\n",
    "en = spacy.lang.en.English()"
   ]
  },
  {
   "cell_type": "code",
   "execution_count": null,
   "metadata": {},
   "outputs": [],
   "source": [
    "docs = arxiv_papers.summary.apply(en)\n",
    "lemmas = docs.apply(papers_processing_utils.get_lemmas)"
   ]
  },
  {
   "cell_type": "code",
   "execution_count": null,
   "metadata": {},
   "outputs": [],
   "source": [
    "keywords = [\n",
    "    \"privacy\",\n",
    "    \"fairness\",\n",
    "    \"accountability\",\n",
    "    \"transparency\",\n",
    "    \"safety\",\n",
    "    \"cybersecurity\",\n",
    "    \"security\",\n",
    "    \"sustainability\",\n",
    "    \"oversight\",\n",
    "    \"control\",\n",
    "    \"solidarity\",\n",
    "    \"interpretability\",\n",
    "    \"policy\",\n",
    "    \"regulation\",\n",
    "    \"responsibility\",\n",
    "]"
   ]
  },
  {
   "cell_type": "code",
   "execution_count": null,
   "metadata": {},
   "outputs": [],
   "source": [
    "counts = dict()\n",
    "for keyword in keywords:\n",
    "    counts[keyword]=sum(lemmas.apply(lambda words: keyword in words))"
   ]
  },
  {
   "cell_type": "code",
   "execution_count": null,
   "metadata": {},
   "outputs": [],
   "source": [
    "px.bar(x=counts.keys(), y=counts.values())"
   ]
  }
 ],
 "metadata": {
  "kernelspec": {
   "display_name": "Python 3",
   "language": "python",
   "name": "python3"
  },
  "language_info": {
   "codemirror_mode": {
    "name": "ipython",
    "version": 3
   },
   "file_extension": ".py",
   "mimetype": "text/x-python",
   "name": "python",
   "nbconvert_exporter": "python",
   "pygments_lexer": "ipython3",
   "version": "3.8.3"
  }
 },
 "nbformat": 4,
 "nbformat_minor": 4
}
