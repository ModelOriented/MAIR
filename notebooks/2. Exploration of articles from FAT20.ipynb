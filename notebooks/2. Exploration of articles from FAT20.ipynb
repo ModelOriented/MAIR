{
 "cells": [
  {
   "cell_type": "code",
   "execution_count": 1,
   "metadata": {},
   "outputs": [],
   "source": [
    "%load_ext autoreload\n",
    "%autoreload 2\n",
    "\n",
    "from mair_tools import notebook_utils\n",
    "import pandas as pd\n",
    "import matplotlib\n",
    "import pickle\n",
    "import re\n",
    "import os\n",
    "import spacy\n",
    "import numpy as np\n",
    "from sklearn.feature_extraction.text import TfidfVectorizer\n",
    "import spacy.lang.en\n",
    "\n",
    "PICKLED_PATH = \"parserd_pdfs.pkl\""
   ]
  },
  {
   "cell_type": "code",
   "execution_count": 2,
   "metadata": {},
   "outputs": [],
   "source": [
    "if not os.path.exists(PICKLED_PATH):\n",
    "    pdfs = notebook_utils.parse_all_files_from_path(\"../articles/FAT_20/\")\n",
    "    with open(\"PICKLED_PATH\", \"wb+\") as f:\n",
    "        pickle.dump(pdfs, f)\n",
    "else:\n",
    "    with open(PICKLED_PATH, \"rb\") as f:\n",
    "        pdfs = pickle.load(f)"
   ]
  },
  {
   "cell_type": "markdown",
   "metadata": {},
   "source": [
    "# Cleaning"
   ]
  },
  {
   "cell_type": "code",
   "execution_count": 3,
   "metadata": {},
   "outputs": [],
   "source": [
    "df = pd.DataFrame(pdfs)\n",
    "df['pages_num']=df.pages.str.len()"
   ]
  },
  {
   "cell_type": "code",
   "execution_count": 4,
   "metadata": {},
   "outputs": [
    {
     "data": {
      "text/plain": [
       "<AxesSubplot:>"
      ]
     },
     "execution_count": 4,
     "metadata": {},
     "output_type": "execute_result"
    },
    {
     "data": {
      "image/png": "[encoded data removed]",
      "text/plain": [
       "<Figure size 432x288 with 1 Axes>"
      ]
     },
     "metadata": {
      "needs_background": "light"
     },
     "output_type": "display_data"
    }
   ],
   "source": [
    "df.pages_num.hist()"
   ]
  },
  {
   "cell_type": "markdown",
   "metadata": {},
   "source": [
    "### Removing papers with only one page"
   ]
  },
  {
   "cell_type": "code",
   "execution_count": 5,
   "metadata": {},
   "outputs": [
    {
     "data": {
      "text/plain": [
       "<AxesSubplot:>"
      ]
     },
     "execution_count": 5,
     "metadata": {},
     "output_type": "execute_result"
    },
    {
     "data": {
      "image/png": "[encoded data removed]",
      "text/plain": [
       "<Figure size 432x288 with 1 Axes>"
      ]
     },
     "metadata": {
      "needs_background": "light"
     },
     "output_type": "display_data"
    }
   ],
   "source": [
    "df=df[df.pages_num!=1]\n",
    "df.pages_num.hist()"
   ]
  },
  {
   "cell_type": "markdown",
   "metadata": {},
   "source": [
    "### Removing references and bibliography"
   ]
  },
  {
   "cell_type": "code",
   "execution_count": 12,
   "metadata": {},
   "outputs": [],
   "source": [
    "def clean_text(text):\n",
    "    # removing bibliography\n",
    "    position = text.lower().rfind(\"references\")\n",
    "    text = text[:position]\n",
    "\n",
    "    text = text.replace(\"\\n\", \" \")  # removing newlines\n",
    "\n",
    "    text = re.sub(\"\\[[^\\[^\\]]*\\]\", \"\", text)  # removing references\n",
    "    return text"
   ]
  },
  {
   "cell_type": "code",
   "execution_count": 13,
   "metadata": {},
   "outputs": [],
   "source": [
    "df['cleaned_text']=df.full_text.apply(clean_text)"
   ]
  },
  {
   "cell_type": "markdown",
   "metadata": {},
   "source": [
    "# Keywords"
   ]
  },
  {
   "cell_type": "code",
   "execution_count": 9,
   "metadata": {},
   "outputs": [],
   "source": [
    "en=spacy.load('en_core_web_lg')"
   ]
  },
  {
   "cell_type": "code",
   "execution_count": 22,
   "metadata": {},
   "outputs": [],
   "source": [
    "en = spacy.lang.en.English()"
   ]
  },
  {
   "cell_type": "code",
   "execution_count": 28,
   "metadata": {},
   "outputs": [],
   "source": [
    "tokenized = df.cleaned_text.apply(lambda x: en(x))"
   ]
  },
  {
   "cell_type": "code",
   "execution_count": 40,
   "metadata": {},
   "outputs": [],
   "source": [
    "lemmas = tokenized.apply(\n",
    "    lambda doc: \" \".join(\n",
    "        [word.lemma_.lower() for word in doc if not word.is_stop if word.is_alpha]\n",
    "    )\n",
    ")"
   ]
  },
  {
   "cell_type": "code",
   "execution_count": 67,
   "metadata": {},
   "outputs": [],
   "source": [
    "tfidf = TfidfVectorizer()"
   ]
  },
  {
   "cell_type": "code",
   "execution_count": 71,
   "metadata": {},
   "outputs": [],
   "source": [
    "tf = tfidf.fit_transform(lemmas)\n",
    "tf = tf.todense()\n",
    "tf = np.array(tf)"
   ]
  },
  {
   "cell_type": "code",
   "execution_count": 72,
   "metadata": {},
   "outputs": [],
   "source": [
    "words = np.array(tfidf.get_feature_names())"
   ]
  },
  {
   "cell_type": "code",
   "execution_count": 74,
   "metadata": {},
   "outputs": [
    {
     "data": {
      "text/plain": [
       "array([[    0, 11901, 11902, ...,  5834,  1890,  9926],\n",
       "       [    0, 11779, 11780, ...,  2170, 13017, 13012],\n",
       "       [    0, 11833, 11834, ...,  2607, 17612, 14522],\n",
       "       ...,\n",
       "       [    0, 11808, 11809, ...,  7727,  7724, 15825],\n",
       "       [    0, 11874, 11875, ...,   208, 18123,   318],\n",
       "       [    0, 11871, 11872, ...,  5724, 12311, 15925]], dtype=int64)"
      ]
     },
     "execution_count": 74,
     "metadata": {},
     "output_type": "execute_result"
    }
   ],
   "source": [
    "#words[tf.argmax(1)]\n",
    "tf.argsort()"
   ]
  }
 ],
 "metadata": {
  "kernelspec": {
   "display_name": "Python 3",
   "language": "python",
   "name": "python3"
  },
  "language_info": {
   "codemirror_mode": {
    "name": "ipython",
    "version": 3
   },
   "file_extension": ".py",
   "mimetype": "text/x-python",
   "name": "python",
   "nbconvert_exporter": "python",
   "pygments_lexer": "ipython3",
   "version": "3.8.5"
  }
 },
 "nbformat": 4,
 "nbformat_minor": 4
}
