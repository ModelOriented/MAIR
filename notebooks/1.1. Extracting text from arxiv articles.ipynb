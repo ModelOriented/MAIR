{
 "cells": [
  {
   "cell_type": "code",
   "execution_count": null,
   "metadata": {},
   "outputs": [],
   "source": [
    "from mair.pdf_parsing import parse\n",
    "import glob\n",
    "import spacy\n",
    "from collections import Counter\n",
    "from tqdm import tqdm\n",
    "import os"
   ]
  },
  {
   "cell_type": "code",
   "execution_count": null,
   "metadata": {},
   "outputs": [],
   "source": [
    "INPUT_FOLDER = \"../data/arxiv_dump/papers/\"\n",
    "OUTPUT_FOLDER = \"../data/arxiv_dump/raw_extracted_texts/\"\n",
    "\n",
    "pdfs_path = os.path.join(INPUT_FOLDER, \"*.pdf\")"
   ]
  },
  {
   "cell_type": "markdown",
   "metadata": {},
   "source": [
    "## Parsing articles"
   ]
  },
  {
   "cell_type": "code",
   "execution_count": null,
   "metadata": {},
   "outputs": [],
   "source": [
    "pdfs = dict()\n",
    "for filepath in tqdm(list(glob.glob(pdfs_path))):\n",
    "    filename = filepath.split(\"/\")[-1]\n",
    "    try:\n",
    "        pdf = parse(filepath)\n",
    "        pdfs[filename] = pdf\n",
    "    except Exception as e:\n",
    "        print(f\"Error parsing ({filename}):\", e)"
   ]
  },
  {
   "cell_type": "code",
   "execution_count": null,
   "metadata": {},
   "outputs": [],
   "source": [
    "len(pdfs)"
   ]
  },
  {
   "cell_type": "markdown",
   "metadata": {},
   "source": [
    "## Saving text to text files"
   ]
  },
  {
   "cell_type": "code",
   "execution_count": null,
   "metadata": {},
   "outputs": [],
   "source": [
    "if not os.path.exists(OUTPUT_FOLDER):\n",
    "    os.mkdir(OUTPUT_FOLDER)"
   ]
  },
  {
   "cell_type": "code",
   "execution_count": null,
   "metadata": {},
   "outputs": [],
   "source": [
    "for name, doc in tqdm(pdfs.items()):\n",
    "    file_path = os.path.join(OUTPUT_FOLDER, name).replace('.pdf', '.txt')\n",
    "    text = doc.full_text\n",
    "    with open(file_path, 'w') as f:\n",
    "        f.write(text)"
   ]
  }
 ],
 "metadata": {
  "kernelspec": {
   "display_name": "Python 3",
   "language": "python",
   "name": "python3"
  },
  "language_info": {
   "codemirror_mode": {
    "name": "ipython",
    "version": 3
   },
   "file_extension": ".py",
   "mimetype": "text/x-python",
   "name": "python",
   "nbconvert_exporter": "python",
   "pygments_lexer": "ipython3",
   "version": "3.8.3"
  }
 },
 "nbformat": 4,
 "nbformat_minor": 4
}
