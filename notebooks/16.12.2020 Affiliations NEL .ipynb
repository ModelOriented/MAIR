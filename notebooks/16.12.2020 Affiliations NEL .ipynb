{
 "cells": [
  {
   "cell_type": "code",
   "execution_count": null,
   "metadata": {},
   "outputs": [],
   "source": [
    "import plotly.express as px\n",
    "import pandas as pd    \n",
    "import glob\n",
    "from tqdm import tqdm\n",
    "import os\n",
    "import json\n",
    "from collections import defaultdict\n",
    "from babelpy import babelfy\n",
    "\n",
    "tqdm.pandas()"
   ]
  },
  {
   "cell_type": "code",
   "execution_count": null,
   "metadata": {},
   "outputs": [],
   "source": [
    "AFFILIATIONS_INPUT_PATH = '../data/arxiv_dump/affiliations.json'\n",
    "OUTPUT_PATH = '../data/arxiv_dump/linked_affiliations.json'\n",
    "API_KEY = '62cb486d-98aa-4f4b-b0cc-f1b6430491b4'\n"
   ]
  },
  {
   "cell_type": "code",
   "execution_count": null,
   "metadata": {},
   "outputs": [],
   "source": [
    "params = dict()\n",
    "params['lang'] = 'EN'\n"
   ]
  },
  {
   "cell_type": "code",
   "execution_count": null,
   "metadata": {},
   "outputs": [],
   "source": [
    "babel_client = babelfy.BabelfyClient(API_KEY, params)\n"
   ]
  },
  {
   "cell_type": "code",
   "execution_count": null,
   "metadata": {},
   "outputs": [],
   "source": [
    "with open(AFFILIATIONS_INPUT_PATH, 'r') as f:\n",
    "    affiliations = json.load(f)['affiliations']\n"
   ]
  },
  {
   "cell_type": "code",
   "execution_count": null,
   "metadata": {},
   "outputs": [],
   "source": [
    "id_to_entities = defaultdict(list)\n",
    "for id, affiliation_list in tqdm(affiliations.items()):\n",
    "    aff_text = ' '.join(affiliation_list)\n",
    "    babel_client.babelfy(aff_text)\n",
    "    ents_info = babel_client.merged_entities\n",
    "    for ent in ents_info:\n",
    "        entity_url = ent['DBpediaURL']\n",
    "        id_to_entities[id].append(entity_url)"
   ]
  },
  {
   "cell_type": "code",
   "execution_count": null,
   "metadata": {
    "tags": []
   },
   "outputs": [],
   "source": [
    "json.dump(id_to_entities, open(OUTPUT_PATH, 'w'))"
   ]
  },
  {
   "cell_type": "code",
   "execution_count": null,
   "metadata": {},
   "outputs": [],
   "source": [
    "babel_client"
   ]
  },
  {
   "cell_type": "code",
   "execution_count": null,
   "metadata": {},
   "outputs": [],
   "source": []
  }
 ],
 "metadata": {
  "kernelspec": {
   "display_name": "Python 3.8.3 64-bit ('.venv')",
   "language": "python",
   "name": "python38364bitvenv2a3acfd5ac524edbb01c2bd5b2f07083"
  },
  "language_info": {
   "codemirror_mode": {
    "name": "ipython",
    "version": 3
   },
   "file_extension": ".py",
   "mimetype": "text/x-python",
   "name": "python",
   "nbconvert_exporter": "python",
   "pygments_lexer": "ipython3",
   "version": "3.8.3-final"
  }
 },
 "nbformat": 4,
 "nbformat_minor": 4
}
