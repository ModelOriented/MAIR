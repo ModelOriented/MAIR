{
 "cells": [
  {
   "cell_type": "code",
   "execution_count": null,
   "metadata": {},
   "outputs": [],
   "source": [
    "import spacy.lang.en\n",
    "import plotly.express as px\n",
    "from mair import papers_processing_utils\n",
    "\n",
    "import pandas as pd    \n",
    "import glob\n",
    "from tqdm import tqdm\n",
    "import spacy.lang.en\n",
    "from collections import defaultdict\n",
    "from spacy.matcher import PhraseMatcher\n",
    "import os\n",
    "from mair import papers_processing_utils\n",
    "import json\n",
    "from sklearn.preprocessing import MultiLabelBinarizer\n",
    "\n",
    "tqdm.pandas()"
   ]
  },
  {
   "cell_type": "code",
   "execution_count": null,
   "metadata": {},
   "outputs": [],
   "source": [
    "keywords = [\n",
    "    \"privacy\",\n",
    "    \"fairness\",\n",
    "    \"accountability\",\n",
    "    \"transparency\",\n",
    "    \"safety\",\n",
    "    \"cybersecurity\",\n",
    "    \"security\",\n",
    "    \"sustainability\",\n",
    "    \"oversight\",\n",
    "    \"solidarity\",\n",
    "    \"interpretability\",\n",
    "    \"policy\",\n",
    "    \"regulation\",\n",
    "    \"responsibility\",\n",
    "]\n",
    "\n",
    "AI_PAPERS_IN_PATH='../data/s2orc/ai_papers.csv'"
   ]
  },
  {
   "cell_type": "code",
   "execution_count": null,
   "metadata": {},
   "outputs": [],
   "source": [
    "en=spacy.lang.en.English()\n",
    "\n",
    "matcher = PhraseMatcher(en.vocab, attr=\"NORM\") #TODO: change to lemma\n",
    "for pattern in keywords:\n",
    "    matcher.add(pattern, None, en(pattern))\n"
   ]
  },
  {
   "cell_type": "code",
   "execution_count": null,
   "metadata": {},
   "outputs": [],
   "source": [
    "df = pd.read_csv(AI_PAPERS_IN_PATH)"
   ]
  },
  {
   "cell_type": "code",
   "execution_count": null,
   "metadata": {},
   "outputs": [],
   "source": [
    "count = pd.DataFrame(df.groupby('year').count()['paper_id'])\n",
    "count = count.rename(columns={'paper_id': 'papers_count'})"
   ]
  },
  {
   "cell_type": "code",
   "execution_count": null,
   "metadata": {},
   "outputs": [],
   "source": [
    "count.to_csv('ai_papers_count.csv')"
   ]
  },
  {
   "cell_type": "code",
   "execution_count": null,
   "metadata": {},
   "outputs": [],
   "source": [
    "len(df)"
   ]
  },
  {
   "cell_type": "code",
   "execution_count": null,
   "metadata": {},
   "outputs": [],
   "source": [
    "df['cleaned_abstract'] = df['abstract'].str.replace('\\n',' ')\n",
    "\n",
    "text_to_search = df.apply(lambda row: str(row['title'])+' '+str(row['cleaned_abstract']), axis=1).str.lower()\n",
    "\n",
    "docs = text_to_search.apply(en)"
   ]
  },
  {
   "cell_type": "code",
   "execution_count": null,
   "metadata": {},
   "outputs": [],
   "source": [
    "matching_results = docs.apply(matcher)"
   ]
  },
  {
   "cell_type": "code",
   "execution_count": null,
   "metadata": {},
   "outputs": [],
   "source": [
    "m = matching_results.apply(lambda matches: list(set([en.vocab.strings[id] for id, _, _ in matches])))"
   ]
  },
  {
   "cell_type": "code",
   "execution_count": null,
   "metadata": {},
   "outputs": [],
   "source": [
    "mlb = MultiLabelBinarizer(classes=keywords)"
   ]
  },
  {
   "cell_type": "code",
   "execution_count": null,
   "metadata": {},
   "outputs": [],
   "source": [
    "a = mlb.fit_transform(m)\n",
    "\n",
    "keywords_df = pd.DataFrame(a, m.index, mlb.classes_)\n",
    "keywords_df"
   ]
  },
  {
   "cell_type": "code",
   "execution_count": null,
   "metadata": {},
   "outputs": [],
   "source": [
    "df2 = keywords_df.join(df)"
   ]
  },
  {
   "cell_type": "code",
   "execution_count": null,
   "metadata": {},
   "outputs": [],
   "source": [
    "yearly_keywords = df2.groupby('year')[keywords].sum()"
   ]
  },
  {
   "cell_type": "code",
   "execution_count": null,
   "metadata": {},
   "outputs": [],
   "source": [
    "px.line(yearly_keywords)"
   ]
  },
  {
   "cell_type": "code",
   "execution_count": null,
   "metadata": {},
   "outputs": [],
   "source": [
    "yearly_keywords.to_csv('yearly_keywords.csv')"
   ]
  },
  {
   "cell_type": "code",
   "execution_count": null,
   "metadata": {},
   "outputs": [],
   "source": [
    "keywords_df.corr()"
   ]
  },
  {
   "cell_type": "code",
   "execution_count": null,
   "metadata": {},
   "outputs": [],
   "source": []
  }
 ],
 "metadata": {
  "kernelspec": {
   "display_name": "Python 3",
   "language": "python",
   "name": "python3"
  },
  "language_info": {
   "codemirror_mode": {
    "name": "ipython",
    "version": 3
   },
   "file_extension": ".py",
   "mimetype": "text/x-python",
   "name": "python",
   "nbconvert_exporter": "python",
   "pygments_lexer": "ipython3",
   "version": "3.8.3"
  }
 },
 "nbformat": 4,
 "nbformat_minor": 4
}
