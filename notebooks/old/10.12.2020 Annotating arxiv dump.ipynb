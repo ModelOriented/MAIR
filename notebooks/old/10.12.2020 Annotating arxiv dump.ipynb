{
 "cells": [
  {
   "cell_type": "code",
   "execution_count": null,
   "metadata": {},
   "outputs": [],
   "source": [
    "from pigeonXT import annotate\n",
    "import pandas as pd\n",
    "import spacy.lang.en\n",
    "import plotly.express as px\n",
    "from mair import papers_processing_utils"
   ]
  },
  {
   "cell_type": "code",
   "execution_count": null,
   "metadata": {},
   "outputs": [],
   "source": [
    "ARXIV_DUMP_PATH = '../data/arxiv_dump/search_results.json'"
   ]
  },
  {
   "cell_type": "code",
   "execution_count": null,
   "metadata": {},
   "outputs": [],
   "source": [
    "arxiv_papers = pd.read_json(path_or_buf=ARXIV_DUMP_PATH, orient='index')\n",
    "\n"
   ]
  },
  {
   "cell_type": "code",
   "execution_count": null,
   "metadata": {},
   "outputs": [],
   "source": [
    "df = arxiv_papers.reset_index()[['id', 'summary']]\n",
    "df.summary = df.summary.str.replace('\\n', ' ')\n",
    "df['annotated']=False"
   ]
  },
  {
   "cell_type": "code",
   "execution_count": null,
   "metadata": {},
   "outputs": [],
   "source": [
    "to_annotate = df.sample(10)"
   ]
  },
  {
   "cell_type": "code",
   "execution_count": null,
   "metadata": {},
   "outputs": [],
   "source": [
    "def perform_annotateion(to_annotate):\n",
    "    annotation_prepared_texts = to_annotate.apply(\n",
    "        lambda row: row.id + \":\" + row.summary, axis=1\n",
    "    )\n",
    "    results = annotate(\n",
    "        annotation_prepared_texts, options=[\"new_method\", \"no_new_method\"]\n",
    "    )\n",
    "    return results"
   ]
  },
  {
   "cell_type": "code",
   "execution_count": null,
   "metadata": {},
   "outputs": [],
   "source": [
    "def post_process_annotateion(results):\n",
    "    texts, labels = zip(*results.items())\n",
    "    annotated_ids = []\n",
    "    for text in texts:\n",
    "        id = text.split(':')[0]\n",
    "        annotated_ids.append(id)\n",
    "    return annotated_ids, labels"
   ]
  },
  {
   "cell_type": "code",
   "execution_count": null,
   "metadata": {},
   "outputs": [],
   "source": [
    "results = perform_annotateion(df.sample(3))"
   ]
  },
  {
   "cell_type": "code",
   "execution_count": null,
   "metadata": {},
   "outputs": [],
   "source": [
    "post_process_annotateion(results)"
   ]
  },
  {
   "cell_type": "code",
   "execution_count": null,
   "metadata": {},
   "outputs": [],
   "source": []
  }
 ],
 "metadata": {
  "kernelspec": {
   "display_name": "Python 3",
   "language": "python",
   "name": "python3"
  },
  "language_info": {
   "codemirror_mode": {
    "name": "ipython",
    "version": 3
   },
   "file_extension": ".py",
   "mimetype": "text/x-python",
   "name": "python",
   "nbconvert_exporter": "python",
   "pygments_lexer": "ipython3",
   "version": "3.8.3"
  }
 },
 "nbformat": 4,
 "nbformat_minor": 4
}
