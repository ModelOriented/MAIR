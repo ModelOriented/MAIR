{
 "cells": [
  {
   "cell_type": "code",
   "execution_count": null,
   "metadata": {},
   "outputs": [],
   "source": [
    "import pandas as pd    \n",
    "import glob\n",
    "from tqdm import tqdm"
   ]
  },
  {
   "cell_type": "code",
   "execution_count": null,
   "metadata": {},
   "outputs": [],
   "source": [
    "ARXIV_DUMP_PATH = '../data/arxiv_dump/search_results.json'\n",
    "\n",
    "S2_ORC_INPUT_PATHS = '../data/s2orc/metadata/comp_sci/*.jsonl'\n",
    "\n",
    "CITATIONS_OUTPUT_PATH = 'citation_papers.csv'\n",
    "MERGED_OUTPUT_PATH = 'arxiv_s2orc_matched.csv'"
   ]
  },
  {
   "cell_type": "code",
   "execution_count": null,
   "metadata": {},
   "outputs": [],
   "source": [
    "s2orc_paths = glob.glob(S2_ORC_INPUT_PATHS)\n",
    "len(s2orc_paths)"
   ]
  },
  {
   "cell_type": "code",
   "execution_count": null,
   "metadata": {},
   "outputs": [],
   "source": [
    "s2orc_papers = pd.DataFrame()\n",
    "\n",
    "for path in tqdm(s2orc_paths):\n",
    "    df2 = pd.read_json(path, lines=True)\n",
    "    s2orc_papers = s2orc_papers.append(df2[~df2['arxiv_id'].isna()])"
   ]
  },
  {
   "cell_type": "code",
   "execution_count": null,
   "metadata": {},
   "outputs": [],
   "source": [
    "arxiv_papers = pd.read_json(path_or_buf=ARXIV_DUMP_PATH, orient='index')"
   ]
  },
  {
   "cell_type": "code",
   "execution_count": null,
   "metadata": {},
   "outputs": [],
   "source": [
    "print(\"Has arxiv id:\", len(s2orc_papers))\n",
    "#print(\"Has arxiv id:\",sum(~s2orc_papers.arxiv_id.isna()))"
   ]
  },
  {
   "cell_type": "markdown",
   "metadata": {},
   "source": [
    "# Papers in arxiv dump covered in S2ORC"
   ]
  },
  {
   "cell_type": "markdown",
   "metadata": {},
   "source": [
    "## By arxiv id"
   ]
  },
  {
   "cell_type": "code",
   "execution_count": null,
   "metadata": {},
   "outputs": [],
   "source": [
    "#removing 'vXX' suffix\n",
    "arxiv_papers['arxiv_id'] = arxiv_papers.id.str.split('v').str[0]"
   ]
  },
  {
   "cell_type": "code",
   "execution_count": null,
   "metadata": {},
   "outputs": [],
   "source": [
    "print(\"All:\", len(arxiv_papers))\n",
    "print(\"Matched id:\", sum(s2orc_papers['arxiv_id'].isin(arxiv_papers['arxiv_id'])))"
   ]
  },
  {
   "cell_type": "code",
   "execution_count": null,
   "metadata": {},
   "outputs": [],
   "source": [
    "merged = pd.merge(left=arxiv_papers, right=s2orc_papers, on='arxiv_id')"
   ]
  },
  {
   "cell_type": "code",
   "execution_count": null,
   "metadata": {},
   "outputs": [],
   "source": [
    "merged.columns"
   ]
  },
  {
   "cell_type": "code",
   "execution_count": null,
   "metadata": {},
   "outputs": [],
   "source": [
    "merged.to_csv(MERGED_OUTPUT_PATH)"
   ]
  },
  {
   "cell_type": "code",
   "execution_count": null,
   "metadata": {},
   "outputs": [],
   "source": [
    "merged.year.hist()"
   ]
  },
  {
   "cell_type": "markdown",
   "metadata": {},
   "source": [
    "## Citations"
   ]
  },
  {
   "cell_type": "code",
   "execution_count": null,
   "metadata": {},
   "outputs": [],
   "source": [
    "all_citations_ids = set()\n",
    "for citations in merged.outbound_citations:\n",
    "    all_citations_ids |= set(citations)"
   ]
  },
  {
   "cell_type": "code",
   "execution_count": null,
   "metadata": {},
   "outputs": [],
   "source": [
    "len(all_citations_ids)"
   ]
  },
  {
   "cell_type": "code",
   "execution_count": null,
   "metadata": {},
   "outputs": [],
   "source": [
    "citation_papers = pd.DataFrame()\n",
    "\n",
    "for path in tqdm(s2orc_paths):\n",
    "    df2 = pd.read_json(path, lines=True)\n",
    "    citation_papers = citation_papers.append(df2[df2.paper_id.isin(all_citations_ids)])"
   ]
  },
  {
   "cell_type": "code",
   "execution_count": null,
   "metadata": {},
   "outputs": [],
   "source": [
    "citation_papers.to_csv(CITATIONS_OUTPUT_PATH)"
   ]
  },
  {
   "cell_type": "code",
   "execution_count": null,
   "metadata": {},
   "outputs": [],
   "source": [
    "citation_papers.year.hist()"
   ]
  },
  {
   "cell_type": "code",
   "execution_count": null,
   "metadata": {},
   "outputs": [],
   "source": []
  }
 ],
 "metadata": {
  "kernelspec": {
   "display_name": "Python 3",
   "language": "python",
   "name": "python3"
  },
  "language_info": {
   "codemirror_mode": {
    "name": "ipython",
    "version": 3
   },
   "file_extension": ".py",
   "mimetype": "text/x-python",
   "name": "python",
   "nbconvert_exporter": "python",
   "pygments_lexer": "ipython3",
   "version": "3.8.3"
  }
 },
 "nbformat": 4,
 "nbformat_minor": 4
}
