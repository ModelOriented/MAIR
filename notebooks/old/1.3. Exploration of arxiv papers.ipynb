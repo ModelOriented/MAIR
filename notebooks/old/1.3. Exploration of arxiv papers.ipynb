{
 "cells": [
  {
   "cell_type": "code",
   "execution_count": null,
   "metadata": {},
   "outputs": [],
   "source": [
    "%load_ext autoreload\n",
    "%autoreload 2\n",
    "import os\n",
    "\n",
    "from mair import notebook_utils\n",
    "from mair import papers_processing_utils\n",
    "import spacy \n",
    "from tqdm import tqdm\n",
    "import nltk\n",
    "import pandas as pd\n",
    "import matplotlib.pyplot as plt\n",
    "import gensim\n",
    "from spacy import displacy\n",
    "from collections import Counter\n",
    "\n",
    "tqdm.pandas()"
   ]
  },
  {
   "cell_type": "code",
   "execution_count": null,
   "metadata": {},
   "outputs": [],
   "source": [
    "INPUT_FOLDER = \"../data/arxiv_dump/cleaned_texts/\"\n",
    "NOUNS = ['fairness', 'explanation', 'bias']\n",
    "\n",
    "input_files_pattern = os.path.join(INPUT_FOLDER, \"*.txt\")"
   ]
  },
  {
   "cell_type": "code",
   "execution_count": null,
   "metadata": {},
   "outputs": [],
   "source": [
    "df = notebook_utils.load_texts_as_df(input_files_pattern)\n",
    "df"
   ]
  },
  {
   "cell_type": "code",
   "execution_count": null,
   "metadata": {},
   "outputs": [],
   "source": [
    "en=spacy.load('en_core_web_lg')\n",
    "#en=spacy.load('en_core_web_sm')\n",
    "\n",
    "docs = df.text[:20].progress_apply(en)"
   ]
  },
  {
   "cell_type": "markdown",
   "metadata": {},
   "source": [
    "## Most common lemmas"
   ]
  },
  {
   "cell_type": "code",
   "execution_count": null,
   "metadata": {},
   "outputs": [],
   "source": [
    "lemmas = docs.progress_apply(\n",
    "    papers_processing_utils.get_lemmas)\n",
    "all_lemas = []\n",
    "for l in lemmas:\n",
    "    all_lemas+=l\n",
    "    \n",
    "unigrams = nltk.FreqDist(all_lemas)\n",
    "plt.figure(figsize=(10,6))\n",
    "\n",
    "unigrams.plot(30)"
   ]
  },
  {
   "cell_type": "markdown",
   "metadata": {},
   "source": [
    "## Keywords"
   ]
  },
  {
   "cell_type": "code",
   "execution_count": null,
   "metadata": {},
   "outputs": [],
   "source": [
    "keywords = lemmas.progress_apply(\" \".join).apply(gensim.summarization.keywords).str.split('\\n')\n",
    "all_keywords = []\n",
    "for k in keywords:\n",
    "    all_keywords+=k\n",
    "plt.figure(figsize=(10,6))\n",
    "nltk.FreqDist(all_keywords).plot(30)"
   ]
  },
  {
   "cell_type": "markdown",
   "metadata": {},
   "source": [
    "# Nouns analysis"
   ]
  },
  {
   "cell_type": "code",
   "execution_count": null,
   "metadata": {},
   "outputs": [],
   "source": [
    "noun = NOUNS[0]"
   ]
  },
  {
   "cell_type": "markdown",
   "metadata": {},
   "source": [
    "## Sentences with noun"
   ]
  },
  {
   "cell_type": "code",
   "execution_count": null,
   "metadata": {},
   "outputs": [],
   "source": [
    "found_sents = []\n",
    "for doc in docs:\n",
    "    for sent in doc.sents:\n",
    "        for token in sent:\n",
    "            if token.lemma_ == noun:\n",
    "                found_sents.append(sent)\n",
    "                break\n",
    "                \n",
    "len(found_sents)"
   ]
  },
  {
   "cell_type": "code",
   "execution_count": null,
   "metadata": {},
   "outputs": [],
   "source": [
    "found_sents"
   ]
  },
  {
   "cell_type": "code",
   "execution_count": null,
   "metadata": {},
   "outputs": [],
   "source": [
    "lemmas = list(map(papers_processing_utils.get_lemmas, found_sents))\n",
    "sents_all_words = []\n",
    "for l in lemmas:\n",
    "    sents_all_words+=l"
   ]
  },
  {
   "cell_type": "markdown",
   "metadata": {},
   "source": [
    "### Words in sentences with noun"
   ]
  },
  {
   "cell_type": "code",
   "execution_count": null,
   "metadata": {},
   "outputs": [],
   "source": [
    "plt.figure(figsize=(10,6))\n",
    "nltk.FreqDist(sents_all_words).plot(30)"
   ]
  },
  {
   "cell_type": "markdown",
   "metadata": {},
   "source": [
    "## Noun chunks with noun \n",
    "\n",
    "Noun and descriptions"
   ]
  },
  {
   "cell_type": "code",
   "execution_count": null,
   "metadata": {},
   "outputs": [],
   "source": [
    "found_chunks = []\n",
    "for doc in docs:\n",
    "    for noun_chunk in doc.noun_chunks:\n",
    "        for token in noun_chunk:\n",
    "            if token.lemma_ == noun:\n",
    "                found_chunks.append(noun_chunk)\n",
    "                break\n",
    "len(found_chunks)"
   ]
  },
  {
   "cell_type": "code",
   "execution_count": null,
   "metadata": {},
   "outputs": [],
   "source": [
    "entities = [\n",
    "    ent\n",
    "    for doc in docs\n",
    "    for ent in doc.ents\n",
    "    if ent.label_ not in {\"CARDINAL\", \"DATE\", \"TIME\", \"ORDINAL\", \"MONEY\", \"PERCENT\"}\n",
    "]\n",
    "found_chunks"
   ]
  },
  {
   "cell_type": "markdown",
   "metadata": {},
   "source": [
    "## Noun heads analysis\n",
    "\n",
    "What is noun describing"
   ]
  },
  {
   "cell_type": "code",
   "execution_count": null,
   "metadata": {},
   "outputs": [],
   "source": [
    "heads = []\n",
    "\n",
    "for sent in found_sents:\n",
    "    for token in sent: \n",
    "        if token.lemma_ == noun:\n",
    "            head = token.head\n",
    "            heads.append(head)"
   ]
  },
  {
   "cell_type": "code",
   "execution_count": null,
   "metadata": {},
   "outputs": [],
   "source": [
    "heads"
   ]
  },
  {
   "cell_type": "code",
   "execution_count": null,
   "metadata": {},
   "outputs": [],
   "source": [
    "displacy.render(sent, style='dep')"
   ]
  },
  {
   "cell_type": "markdown",
   "metadata": {},
   "source": [
    "# NER analysis"
   ]
  },
  {
   "cell_type": "code",
   "execution_count": null,
   "metadata": {},
   "outputs": [],
   "source": [
    "entities = [\n",
    "    ent\n",
    "    for doc in docs\n",
    "    for ent in doc.ents\n",
    "    if ent.label_ not in {\"CARDINAL\", \"DATE\", \"TIME\", \"ORDINAL\", \"MONEY\", \"PERCENT\"}\n",
    "]\n",
    "\n",
    "labels = Counter([ent.label_ for ent in entities])\n",
    "labels"
   ]
  },
  {
   "cell_type": "code",
   "execution_count": null,
   "metadata": {},
   "outputs": [],
   "source": [
    "#entities"
   ]
  },
  {
   "cell_type": "markdown",
   "metadata": {},
   "source": [
    "## Organisations"
   ]
  },
  {
   "cell_type": "code",
   "execution_count": null,
   "metadata": {},
   "outputs": [],
   "source": [
    "[ent for ent in entities if ent.label_=='ORG']"
   ]
  },
  {
   "cell_type": "code",
   "execution_count": null,
   "metadata": {},
   "outputs": [],
   "source": []
  }
 ],
 "metadata": {
  "kernelspec": {
   "display_name": "Python 3",
   "language": "python",
   "name": "python3"
  },
  "language_info": {
   "codemirror_mode": {
    "name": "ipython",
    "version": 3
   },
   "file_extension": ".py",
   "mimetype": "text/x-python",
   "name": "python",
   "nbconvert_exporter": "python",
   "pygments_lexer": "ipython3",
   "version": "3.8.3"
  }
 },
 "nbformat": 4,
 "nbformat_minor": 4
}
