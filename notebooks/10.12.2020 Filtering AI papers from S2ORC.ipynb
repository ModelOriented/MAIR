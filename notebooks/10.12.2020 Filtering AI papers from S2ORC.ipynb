{
 "cells": [
  {
   "cell_type": "code",
   "execution_count": null,
   "metadata": {},
   "outputs": [],
   "source": [
    "import pandas as pd    \n",
    "import glob\n",
    "from tqdm import tqdm\n",
    "import spacy.lang.en\n",
    "from collections import defaultdict\n",
    "from spacy.matcher import PhraseMatcher\n",
    "import os\n",
    "from mair import papers_processing_utils\n",
    "import json\n",
    "tqdm.pandas()"
   ]
  },
  {
   "cell_type": "code",
   "execution_count": null,
   "metadata": {},
   "outputs": [],
   "source": [
    "S2_ORC_INPUT_PATHS = '../data/s2orc/metadata/comp_sci/*.jsonl'\n",
    "INDEX_OUT_PATH = '../data/s2orc/ai_papers_ids.json'\n",
    "AI_PAPERS_OUT_PATH='../data/s2orc/ai_papers.csv'\n",
    "s2orc_paths = glob.glob(S2_ORC_INPUT_PATHS)\n",
    "\n",
    "en=spacy.lang.en.English()\n",
    "# en = spacy.load('en_core_web_sm')\n",
    "# en.disable_pipes(['parser', 'ner'])\n",
    "ai_papers_index = dict()\n"
   ]
  },
  {
   "cell_type": "code",
   "execution_count": null,
   "metadata": {},
   "outputs": [],
   "source": [
    "def find_ai_papers(df, matcher):\n",
    "    df['cleaned_abstract'] = df['abstract'].str.replace('\\n',' ')\n",
    "\n",
    "    text_to_search = df.apply(lambda row: str(row['title'])+' '+str(row['cleaned_abstract']), axis=1).str.lower()\n",
    "\n",
    "    docs = text_to_search.apply(en)\n",
    "\n",
    "    foundings=docs.apply(matcher)\n",
    "    ai_papers_ids = list(df[foundings.str.len()!=0].paper_id)\n",
    "    return ai_papers_ids\n",
    "\n",
    "def prepare_matcher():\n",
    "    patterns = [\n",
    "        \"ai\",\n",
    "        \"artificial intelligence\",\n",
    "        \"machine learning\",\n",
    "        \"classifier\",\n",
    "        \"neural network\",\n",
    "        \"deep learning\",\n",
    "        \"data science\",\n",
    "        \"nlp\",\n",
    "        \"machine-learning\",\n",
    "        \"computer vision\"\n",
    "    ]\n",
    "    matcher = PhraseMatcher(en.vocab, attr=\"NORM\") #TODO: change to lemma\n",
    "    for pattern in patterns:\n",
    "        matcher.add(pattern, None, en(pattern))\n",
    "    return matcher"
   ]
  },
  {
   "cell_type": "code",
   "execution_count": null,
   "metadata": {},
   "outputs": [],
   "source": [
    "matcher = prepare_matcher()\n",
    "\n",
    "for path in tqdm(s2orc_paths):\n",
    "    filename = os.path.basename(path)\n",
    "    if filename in ai_papers_index.keys():\n",
    "        print(f\"Already filtered ({filename}), skipping...\", flush=True)\n",
    "    else:\n",
    "        df = pd.read_json(path, lines=True)    \n",
    "        ai_papers_ids = find_ai_papers(df, matcher)\n",
    "\n",
    "        ai_papers_index[filename]=ai_papers_ids"
   ]
  },
  {
   "cell_type": "code",
   "execution_count": null,
   "metadata": {},
   "outputs": [],
   "source": [
    "json.dump(ai_papers_index, open(INDEX_OUT_PATH, 'w'))"
   ]
  },
  {
   "cell_type": "code",
   "execution_count": null,
   "metadata": {},
   "outputs": [],
   "source": [
    "ai_papers_index = json.load(open(INDEX_OUT_PATH, 'r'))"
   ]
  },
  {
   "cell_type": "code",
   "execution_count": null,
   "metadata": {},
   "outputs": [],
   "source": [
    "ai_papers = pd.DataFrame()\n",
    "for path in tqdm(s2orc_paths):\n",
    "    filename = os.path.basename(path)\n",
    "    df2 = pd.read_json(path, lines=True)\n",
    "    df_filtered = df2[df2['paper_id'].isin(ai_papers_index[filename])]\n",
    "    ai_papers = ai_papers.append(df_filtered)"
   ]
  },
  {
   "cell_type": "code",
   "execution_count": null,
   "metadata": {},
   "outputs": [],
   "source": [
    "ai_papers.to_csv(AI_PAPERS_OUT_PATH)"
   ]
  },
  {
   "cell_type": "code",
   "execution_count": null,
   "metadata": {},
   "outputs": [],
   "source": []
  }
 ],
 "metadata": {
  "kernelspec": {
   "display_name": "Python 3",
   "language": "python",
   "name": "python3"
  },
  "language_info": {
   "codemirror_mode": {
    "name": "ipython",
    "version": 3
   },
   "file_extension": ".py",
   "mimetype": "text/x-python",
   "name": "python",
   "nbconvert_exporter": "python",
   "pygments_lexer": "ipython3",
   "version": "3.8.3"
  }
 },
 "nbformat": 4,
 "nbformat_minor": 4
}
