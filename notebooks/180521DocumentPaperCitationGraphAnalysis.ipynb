{
 "cells": [
  {
   "cell_type": "markdown",
   "metadata": {},
   "source": [
    "## Analysis of AI documents and papers citation graph"
   ]
  },
  {
   "cell_type": "code",
   "execution_count": 23,
   "metadata": {},
   "outputs": [],
   "source": [
    "import pandas as pd\n",
    "citation_matches_df = pd.read_csv(\"../data/citation_graph/documents_references.csv\", index_col=0, dtype={\"id_source\": str})"
   ]
  },
  {
   "cell_type": "code",
   "execution_count": 24,
   "metadata": {},
   "outputs": [
    {
     "data": {
      "text/html": [
       "<div>\n",
       "<style scoped>\n",
       "    .dataframe tbody tr th:only-of-type {\n",
       "        vertical-align: middle;\n",
       "    }\n",
       "\n",
       "    .dataframe tbody tr th {\n",
       "        vertical-align: top;\n",
       "    }\n",
       "\n",
       "    .dataframe thead th {\n",
       "        text-align: right;\n",
       "    }\n",
       "</style>\n",
       "<table border=\"1\" class=\"dataframe\">\n",
       "  <thead>\n",
       "    <tr style=\"text-align: right;\">\n",
       "      <th></th>\n",
       "      <th>id_dest</th>\n",
       "      <th>id_source</th>\n",
       "      <th>doc_type</th>\n",
       "      <th>dest_title</th>\n",
       "      <th>source_title</th>\n",
       "      <th>dest_path</th>\n",
       "      <th>source_arxiv_url</th>\n",
       "      <th>match_type</th>\n",
       "      <th>matched_info</th>\n",
       "      <th>matched_text</th>\n",
       "    </tr>\n",
       "  </thead>\n",
       "  <tbody>\n",
       "    <tr>\n",
       "      <th>0</th>\n",
       "      <td>24220</td>\n",
       "      <td>9512004</td>\n",
       "      <td>oecd</td>\n",
       "      <td>LITHUANIAN ARTIFICIAL INTELLIGENCE STRATEGY: A...</td>\n",
       "      <td>Natural language processing: she needs somethi...</td>\n",
       "      <td>24220.txt</td>\n",
       "      <td>http://arxiv.org/abs/cmp-lg/9512004</td>\n",
       "      <td>by_title</td>\n",
       "      <td>naturallanguageprocessingsheneedssomethingolda...</td>\n",
       "      <td>sconcernedtheareasoffocusaredeeplearningdatami...</td>\n",
       "    </tr>\n",
       "    <tr>\n",
       "      <th>1</th>\n",
       "      <td>24220</td>\n",
       "      <td>9709012</td>\n",
       "      <td>oecd</td>\n",
       "      <td>LITHUANIAN ARTIFICIAL INTELLIGENCE STRATEGY: A...</td>\n",
       "      <td>Using Single Layer Networks for Discrete, Sequ...</td>\n",
       "      <td>24220.txt</td>\n",
       "      <td>http://arxiv.org/abs/cmp-lg/9709012</td>\n",
       "      <td>by_title</td>\n",
       "      <td>usingsinglelayernetworksfordiscretesequentiald...</td>\n",
       "      <td>sconcernedtheareasoffocusaredeeplearningdatami...</td>\n",
       "    </tr>\n",
       "    <tr>\n",
       "      <th>2</th>\n",
       "      <td>26722</td>\n",
       "      <td>1804.01660</td>\n",
       "      <td>oecd</td>\n",
       "      <td>AI TASK FORCE</td>\n",
       "      <td>The structure of evolved representations acros...</td>\n",
       "      <td>26722.txt</td>\n",
       "      <td>http://arxiv.org/abs/1804.01660</td>\n",
       "      <td>by_title</td>\n",
       "      <td>thestructureofevolvedrepresentationsacrossdiff...</td>\n",
       "      <td>sedinthisareaforexampletheunitedkingdomhasanof...</td>\n",
       "    </tr>\n",
       "  </tbody>\n",
       "</table>\n",
       "</div>"
      ],
      "text/plain": [
       "  id_dest   id_source doc_type  \\\n",
       "0   24220     9512004     oecd   \n",
       "1   24220     9709012     oecd   \n",
       "2   26722  1804.01660     oecd   \n",
       "\n",
       "                                          dest_title  \\\n",
       "0  LITHUANIAN ARTIFICIAL INTELLIGENCE STRATEGY: A...   \n",
       "1  LITHUANIAN ARTIFICIAL INTELLIGENCE STRATEGY: A...   \n",
       "2                                      AI TASK FORCE   \n",
       "\n",
       "                                        source_title  dest_path  \\\n",
       "0  Natural language processing: she needs somethi...  24220.txt   \n",
       "1  Using Single Layer Networks for Discrete, Sequ...  24220.txt   \n",
       "2  The structure of evolved representations acros...  26722.txt   \n",
       "\n",
       "                      source_arxiv_url match_type  \\\n",
       "0  http://arxiv.org/abs/cmp-lg/9512004   by_title   \n",
       "1  http://arxiv.org/abs/cmp-lg/9709012   by_title   \n",
       "2      http://arxiv.org/abs/1804.01660   by_title   \n",
       "\n",
       "                                        matched_info  \\\n",
       "0  naturallanguageprocessingsheneedssomethingolda...   \n",
       "1  usingsinglelayernetworksfordiscretesequentiald...   \n",
       "2  thestructureofevolvedrepresentationsacrossdiff...   \n",
       "\n",
       "                                        matched_text  \n",
       "0  sconcernedtheareasoffocusaredeeplearningdatami...  \n",
       "1  sconcernedtheareasoffocusaredeeplearningdatami...  \n",
       "2  sedinthisareaforexampletheunitedkingdomhasanof...  "
      ]
     },
     "execution_count": 24,
     "metadata": {},
     "output_type": "execute_result"
    }
   ],
   "source": [
    "citation_matches_df.head(3)"
   ]
  },
  {
   "cell_type": "markdown",
   "metadata": {},
   "source": [
    "### Questions to answer\n",
    "* Number of documents\n",
    "* Number of papers\n",
    "* Number of edges in the graph\n",
    "* Number of matches by type\n",
    "* Number of documents/papers with any link\n",
    "* Most frequently cited papers\n",
    "* What are the entries matched by arxiv id but not the title"
   ]
  },
  {
   "cell_type": "code",
   "execution_count": 25,
   "metadata": {},
   "outputs": [
    {
     "name": "stdout",
     "output_type": "stream",
     "text": [
      "OECD documents: 84\n",
      "NESTA documents: 102\n",
      "ARXIV papers: 164105\n"
     ]
    }
   ],
   "source": [
    "import os\n",
    "import json\n",
    "OECD_DOCUMENT_COUNT = len(os.listdir(\"../data/oecd_docs/texts\"))\n",
    "NESTA_DOCUMENT_COUNT = len(os.listdir(\"../data/nesta_ai_governance_docs/texts\"))\n",
    "ARXIV_PAPERS_COUNT = len(json.load(open(\"../data/citation_graph/arxiv-ai-metadata.json\", \"r\")))\n",
    "\n",
    "print(\"OECD documents: {}\".format(OECD_DOCUMENT_COUNT))\n",
    "print(\"NESTA documents: {}\".format(NESTA_DOCUMENT_COUNT))\n",
    "print(\"ARXIV papers: {}\".format(ARXIV_PAPERS_COUNT))"
   ]
  },
  {
   "cell_type": "code",
   "execution_count": 26,
   "metadata": {},
   "outputs": [
    {
     "name": "stdout",
     "output_type": "stream",
     "text": [
      "Number of links: 502\n"
     ]
    }
   ],
   "source": [
    "citation_graph_df = citation_matches_df[['id_dest', 'id_source', 'doc_type']].drop_duplicates()\n",
    "LINKS_COUNT = citation_graph_df.shape[0]\n",
    "print(\"Number of links: {}\".format(LINKS_COUNT))"
   ]
  },
  {
   "cell_type": "code",
   "execution_count": 27,
   "metadata": {},
   "outputs": [
    {
     "data": {
      "text/plain": [
       "by_title       487\n",
       "by_arxiv_id    115\n",
       "Name: match_type, dtype: int64"
      ]
     },
     "execution_count": 27,
     "metadata": {},
     "output_type": "execute_result"
    }
   ],
   "source": [
    "# Matches by type\n",
    "citation_matches_df['match_type'].value_counts()"
   ]
  },
  {
   "cell_type": "code",
   "execution_count": 28,
   "metadata": {},
   "outputs": [
    {
     "data": {
      "text/plain": [
       "doc_type\n",
       "nesta       48\n",
       "oecd        32\n",
       "dtype: int64"
      ]
     },
     "execution_count": 28,
     "metadata": {},
     "output_type": "execute_result"
    }
   ],
   "source": [
    "citation_graph_df[['id_dest', 'doc_type']].drop_duplicates()[['doc_type']].value_counts()"
   ]
  },
  {
   "cell_type": "code",
   "execution_count": 44,
   "metadata": {},
   "outputs": [
    {
     "data": {
      "text/plain": [
       "id_dest                                                            doc_type\n",
       "the-malicious-use-of-ai-forecasting-prevention-and-mitigation      nesta       85\n",
       "26955                                                              oecd        67\n",
       "26961                                                              oecd        43\n",
       "26746                                                              oecd        34\n",
       "ai-and-national-security                                           nesta       24\n",
       "                                                                               ..\n",
       "national-strategy-for-artificial-intelligence                      nesta        1\n",
       "opinion-of-the-german-data-ethics-commission                       nesta        1\n",
       "discussion-paper-on-ai-and-personal-data                           nesta        1\n",
       "26881                                                              oecd         1\n",
       "2016-2019-progress-report-advancing-artificial-intelligence-randd  nesta        1\n",
       "Length: 80, dtype: int64"
      ]
     },
     "execution_count": 44,
     "metadata": {},
     "output_type": "execute_result"
    }
   ],
   "source": [
    "citation_graph_df[['id_dest', 'doc_type']].value_counts()"
   ]
  },
  {
   "cell_type": "code",
   "execution_count": 46,
   "metadata": {},
   "outputs": [],
   "source": [
    "paper_counts = citation_graph_df[['id_source']].value_counts()"
   ]
  },
  {
   "cell_type": "code",
   "execution_count": 47,
   "metadata": {},
   "outputs": [
    {
     "name": "stdout",
     "output_type": "stream",
     "text": [
      "Number of cited papers: 340\n"
     ]
    }
   ],
   "source": [
    "print(\"Number of cited papers: {}\".format(len(paper_counts)))"
   ]
  },
  {
   "cell_type": "code",
   "execution_count": 67,
   "metadata": {},
   "outputs": [
    {
     "data": {
      "text/html": [
       "<div>\n",
       "<style scoped>\n",
       "    .dataframe tbody tr th:only-of-type {\n",
       "        vertical-align: middle;\n",
       "    }\n",
       "\n",
       "    .dataframe tbody tr th {\n",
       "        vertical-align: top;\n",
       "    }\n",
       "\n",
       "    .dataframe thead th {\n",
       "        text-align: right;\n",
       "    }\n",
       "</style>\n",
       "<table border=\"1\" class=\"dataframe\">\n",
       "  <thead>\n",
       "    <tr style=\"text-align: right;\">\n",
       "      <th></th>\n",
       "      <th>0</th>\n",
       "    </tr>\n",
       "    <tr>\n",
       "      <th>id_source</th>\n",
       "      <th></th>\n",
       "    </tr>\n",
       "  </thead>\n",
       "  <tbody>\n",
       "    <tr>\n",
       "      <th>9512004</th>\n",
       "      <td>11</td>\n",
       "    </tr>\n",
       "    <tr>\n",
       "      <th>9709012</th>\n",
       "      <td>11</td>\n",
       "    </tr>\n",
       "    <tr>\n",
       "      <th>1810.07339</th>\n",
       "      <td>6</td>\n",
       "    </tr>\n",
       "    <tr>\n",
       "      <th>2005.11072</th>\n",
       "      <td>5</td>\n",
       "    </tr>\n",
       "    <tr>\n",
       "      <th>1711.00399</th>\n",
       "      <td>5</td>\n",
       "    </tr>\n",
       "    <tr>\n",
       "      <th>...</th>\n",
       "      <td>...</td>\n",
       "    </tr>\n",
       "    <tr>\n",
       "      <th>1810.00069</th>\n",
       "      <td>1</td>\n",
       "    </tr>\n",
       "    <tr>\n",
       "      <th>1810.03292</th>\n",
       "      <td>1</td>\n",
       "    </tr>\n",
       "    <tr>\n",
       "      <th>1810.08810</th>\n",
       "      <td>1</td>\n",
       "    </tr>\n",
       "    <tr>\n",
       "      <th>1811.00116</th>\n",
       "      <td>1</td>\n",
       "    </tr>\n",
       "    <tr>\n",
       "      <th>0011012</th>\n",
       "      <td>1</td>\n",
       "    </tr>\n",
       "  </tbody>\n",
       "</table>\n",
       "<p>340 rows × 1 columns</p>\n",
       "</div>"
      ],
      "text/plain": [
       "             0\n",
       "id_source     \n",
       "9512004     11\n",
       "9709012     11\n",
       "1810.07339   6\n",
       "2005.11072   5\n",
       "1711.00399   5\n",
       "...         ..\n",
       "1810.00069   1\n",
       "1810.03292   1\n",
       "1810.08810   1\n",
       "1811.00116   1\n",
       "0011012      1\n",
       "\n",
       "[340 rows x 1 columns]"
      ]
     },
     "execution_count": 67,
     "metadata": {},
     "output_type": "execute_result"
    }
   ],
   "source": [
    "pd.DataFrame(paper_counts)"
   ]
  },
  {
   "cell_type": "code",
   "execution_count": 74,
   "metadata": {},
   "outputs": [],
   "source": [
    "top_cited_papers_df = pd.merge(pd.DataFrame(paper_counts, columns=['count']).reset_index(), citation_matches_df[['id_source', 'source_title']].drop_duplicates(), \n",
    "         on='id_source', how='left')[['id_source', 'count', 'source_title']]"
   ]
  },
  {
   "cell_type": "code",
   "execution_count": 91,
   "metadata": {},
   "outputs": [
    {
     "name": "stdout",
     "output_type": "stream",
     "text": [
      "     id_source  count                                                                                                                     source_title\n",
      "0      9512004     11     Natural language processing: she needs something old and something new\\n  (maybe something borrowed and something blue, too)\n",
      "1      9709012     11                        Using Single Layer Networks for Discrete, Sequential Data: An Example\\n  from Natural Language Processing\n",
      "2   1810.07339      6                                                                       Security Matters: A Survey on Adversarial Machine Learning\n",
      "3   2005.11072      5                                                               Regulating Artificial Intelligence: Proposal for a Global Solution\n",
      "4   1711.00399      5                                   Counterfactual Explanations without Opening the Black Box: Automated\\n  Decisions and the GDPR\n",
      "5   2002.12620      5                                     TextBrewer: An Open-Source Knowledge Distillation Toolkit for Natural\\n  Language Processing\n",
      "6   1803.09010      5                                                                                                          Datasheets for Datasets\n",
      "7   1606.06565      5                                                                                                   Concrete Problems in AI Safety\n",
      "8   1703.07047      4                                    High-Resolution Breast Cancer Screening with Multi-View Deep\\n  Convolutional Neural Networks\n",
      "9   2004.13922      4                                                            Revisiting Pre-Trained Models for Chinese Natural Language Processing\n",
      "10  2010.15665      4                                                                                            Machine Ethics and Automated Vehicles\n",
      "11  1606.08813      4                                        European Union regulations on algorithmic decision-making and a \"right\\n  to explanation\"\n",
      "12  2008.10022      4                                  COVID-19 Pandemic: Identifying Key Issues using Social Media and Natural\\n  Language Processing\n",
      "13     9711005      4  Some apparently disjoint aims and requirements for grammar development\\n  environments: the case of natural language generation\n",
      "14  1510.03346      4                                                                                        The social dilemma of autonomous vehicles\n",
      "15  2103.08809      4                                                  Robustly Optimized and Distilled Training for Natural Language\\n  Understanding\n",
      "16  1704.01510      4                             Isotropic reconstruction of 3D fluorescence microscopy images using\\n  convolutional neural networks\n",
      "17  1711.03674      4                                                            Breast density classification with deep convolutional neural networks\n",
      "18  1803.05848      4    Towards Clinical Diagnosis: Automated Stroke Lesion Segmentation on\\n  Multimodal MR Image Using Convolutional Neural Network\n",
      "19  1804.01660      4                              The structure of evolved representations across different substrates for\\n  artificial intelligence\n",
      "20  1710.04778      3      Retinal Fluid Segmentation and Detection in Optical Coherence Tomography\\n  Images using Fully Convolutional Neural Network\n",
      "21  2005.02183      3                                         Comparing SNNs and RNNs on Neuromorphic Vision Datasets: Similarities\\n  and Differences\n",
      "22  1602.04938      3                                                          \"Why Should I Trust You?\": Explaining the Predictions of Any Classifier\n",
      "23  1606.03490      3                                                                                             The Mythos of Model Interpretability\n",
      "24  1809.04440      3                                                   Convolutional Neural Networks for Fast Approximation of Graph Edit\\n  Distance\n",
      "25  1810.03993      3                                                                                                  Model Cards for Model Reporting\n",
      "26  1908.11779      3                                              Analyzing Cyber-Physical Systems from the Perspective of Artificial\\n  Intelligence\n",
      "27  1609.05807      3                                                                     Inherent Trade-Offs in the Fair Determination of Risk Scores\n",
      "28  1903.12331      3      A Deep Dive into Understanding Tumor Foci Classification using\\n  Multiparametric MRI Based on Convolutional Neural Network\n",
      "29  1902.07669      3                                                   ScispaCy: Fast and Robust Models for Biomedical Natural Language\\n  Processing\n",
      "30  1702.08608      3                                                                     Towards A Rigorous Science of Interpretable Machine Learning\n",
      "31  1703.00056      3                                   Fair prediction with disparate impact: A study of bias in recidivism\\n  prediction instruments\n",
      "32  1705.08807      3                                                                  When Will AI Exceed Human Performance? Evidence from AI Experts\n",
      "33  1610.07524      3                                   Fair prediction with disparate impact: A study of bias in recidivism\\n  prediction instruments\n",
      "34  2010.07621      3                                                              HS-ResNet: Hierarchical-Split Block on Convolutional Neural Network\n",
      "35  2102.10012      3                                                                       Analytics and Machine Learning in Vehicle Routing Research\n"
     ]
    }
   ],
   "source": [
    "with pd.option_context('display.max_rows', None, 'display.max_columns', None, 'display.max_colwidth', None, 'display.width', 300):  # more options can be specified also\n",
    "    print(top_cited_papers_df[top_cited_papers_df['count'] > 2])"
   ]
  },
  {
   "cell_type": "code",
   "execution_count": 94,
   "metadata": {},
   "outputs": [
    {
     "data": {
      "text/html": [
       "<div>\n",
       "<style scoped>\n",
       "    .dataframe tbody tr th:only-of-type {\n",
       "        vertical-align: middle;\n",
       "    }\n",
       "\n",
       "    .dataframe tbody tr th {\n",
       "        vertical-align: top;\n",
       "    }\n",
       "\n",
       "    .dataframe thead th {\n",
       "        text-align: right;\n",
       "    }\n",
       "</style>\n",
       "<table border=\"1\" class=\"dataframe\">\n",
       "  <thead>\n",
       "    <tr style=\"text-align: right;\">\n",
       "      <th></th>\n",
       "    </tr>\n",
       "  </thead>\n",
       "  <tbody>\n",
       "    <tr>\n",
       "      <th>0</th>\n",
       "    </tr>\n",
       "    <tr>\n",
       "      <th>1</th>\n",
       "    </tr>\n",
       "    <tr>\n",
       "      <th>2</th>\n",
       "    </tr>\n",
       "    <tr>\n",
       "      <th>3</th>\n",
       "    </tr>\n",
       "    <tr>\n",
       "      <th>5</th>\n",
       "    </tr>\n",
       "    <tr>\n",
       "      <th>...</th>\n",
       "    </tr>\n",
       "    <tr>\n",
       "      <th>596</th>\n",
       "    </tr>\n",
       "    <tr>\n",
       "      <th>597</th>\n",
       "    </tr>\n",
       "    <tr>\n",
       "      <th>599</th>\n",
       "    </tr>\n",
       "    <tr>\n",
       "      <th>600</th>\n",
       "    </tr>\n",
       "    <tr>\n",
       "      <th>601</th>\n",
       "    </tr>\n",
       "  </tbody>\n",
       "</table>\n",
       "<p>502 rows × 0 columns</p>\n",
       "</div>"
      ],
      "text/plain": [
       "Empty DataFrame\n",
       "Columns: []\n",
       "Index: [0, 1, 2, 3, 5, 6, 7, 8, 9, 10, 11, 12, 13, 14, 15, 16, 17, 18, 19, 20, 21, 22, 23, 24, 25, 26, 27, 28, 29, 30, 31, 32, 33, 34, 35, 36, 37, 38, 39, 42, 43, 44, 45, 46, 49, 50, 51, 52, 53, 54, 55, 56, 57, 58, 59, 60, 61, 62, 63, 64, 65, 66, 67, 68, 69, 70, 71, 72, 73, 74, 75, 76, 77, 78, 80, 82, 83, 84, 85, 86, 87, 88, 90, 91, 93, 94, 95, 96, 97, 99, 100, 101, 102, 103, 104, 105, 106, 107, 109, 110, ...]\n",
       "\n",
       "[502 rows x 0 columns]"
      ]
     },
     "execution_count": 94,
     "metadata": {},
     "output_type": "execute_result"
    }
   ],
   "source": [
    "citation_graph_df.filter(\"doc_type == oecd\")"
   ]
  },
  {
   "cell_type": "code",
   "execution_count": null,
   "metadata": {},
   "outputs": [],
   "source": []
  }
 ],
 "metadata": {
  "kernelspec": {
   "display_name": "Python 3",
   "language": "python",
   "name": "python3"
  },
  "language_info": {
   "codemirror_mode": {
    "name": "ipython",
    "version": 3
   },
   "file_extension": ".py",
   "mimetype": "text/x-python",
   "name": "python",
   "nbconvert_exporter": "python",
   "pygments_lexer": "ipython3",
   "version": "3.6.10"
  }
 },
 "nbformat": 4,
 "nbformat_minor": 4
}
