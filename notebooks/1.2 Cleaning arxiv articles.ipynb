{
 "cells": [
  {
   "cell_type": "code",
   "execution_count": 123,
   "metadata": {},
   "outputs": [
    {
     "name": "stdout",
     "output_type": "stream",
     "text": [
      "The autoreload extension is already loaded. To reload it, use:\n",
      "  %reload_ext autoreload\n"
     ]
    }
   ],
   "source": [
    "%load_ext autoreload\n",
    "%autoreload 2\n",
    "\n",
    "import os\n",
    "import glob\n",
    "from mair_tools import notebook_utils\n",
    "from mair_tools import papers_processing\n",
    "\n",
    "from typing import List\n",
    "from tqdm import tqdm\n",
    "from spacy.lang.en import English\n",
    "import pandas as pd\n",
    "\n",
    "tqdm.pandas()"
   ]
  },
  {
   "cell_type": "code",
   "execution_count": 182,
   "metadata": {},
   "outputs": [],
   "source": [
    "INPUT_FOLDER = \"../arxiv_dump/raw_extracted_texts/\"\n",
    "OUTPUT_FOLDER = \"../arxiv_dump/cleaned_texts/\"\n",
    "\n",
    "MIN_PAPER_LEN = 100\n",
    "input_files_pattern = os.path.join(INPUT_FOLDER, \"*.txt\")"
   ]
  },
  {
   "cell_type": "markdown",
   "metadata": {},
   "source": [
    "# Loading texts"
   ]
  },
  {
   "cell_type": "code",
   "execution_count": 145,
   "metadata": {},
   "outputs": [],
   "source": [
    "df = notebook_utils.load_texts_as_df(input_files_pattern)"
   ]
  },
  {
   "cell_type": "code",
   "execution_count": 157,
   "metadata": {},
   "outputs": [
    {
     "data": {
      "text/html": [
       "<div>\n",
       "<style scoped>\n",
       "    .dataframe tbody tr th:only-of-type {\n",
       "        vertical-align: middle;\n",
       "    }\n",
       "\n",
       "    .dataframe tbody tr th {\n",
       "        vertical-align: top;\n",
       "    }\n",
       "\n",
       "    .dataframe thead th {\n",
       "        text-align: right;\n",
       "    }\n",
       "</style>\n",
       "<table border=\"1\" class=\"dataframe\">\n",
       "  <thead>\n",
       "    <tr style=\"text-align: right;\">\n",
       "      <th></th>\n",
       "      <th>text</th>\n",
       "    </tr>\n",
       "  </thead>\n",
       "  <tbody>\n",
       "    <tr>\n",
       "      <th>2004.02353v2</th>\n",
       "      <td>Adaptive Explainable Neural Networks (AxNNs) \\...</td>\n",
       "    </tr>\n",
       "    <tr>\n",
       "      <th>2007.14677v1</th>\n",
       "      <td>On the Use of Interpretable Machine Learning f...</td>\n",
       "    </tr>\n",
       "    <tr>\n",
       "      <th>2005.06898v2</th>\n",
       "      <td>0\\n2\\n0\\n2\\n \\ny\\na\\nM\\n8\\n1\\n \\n \\n \\n]\\nL\\nC...</td>\n",
       "    </tr>\n",
       "    <tr>\n",
       "      <th>2009.06433v1</th>\n",
       "      <td>0\\n2\\n0\\n2\\n \\np\\ne\\nS\\n4\\n1\\n \\n \\n \\n]\\nC\\nH...</td>\n",
       "    </tr>\n",
       "    <tr>\n",
       "      <th>2004.04019v1</th>\n",
       "      <td>0\\n2\\n0\\n2\\n \\nr\\np\\nA\\n8\\n \\n \\n \\n]\\nT\\nO\\n....</td>\n",
       "    </tr>\n",
       "    <tr>\n",
       "      <th>...</th>\n",
       "      <td>...</td>\n",
       "    </tr>\n",
       "    <tr>\n",
       "      <th>1909.12367v1</th>\n",
       "      <td>9\\n1\\n0\\n2\\n \\np\\ne\\nS\\n6\\n2\\n \\n \\n \\n]\\nG\\nL...</td>\n",
       "    </tr>\n",
       "    <tr>\n",
       "      <th>2008.04448v1</th>\n",
       "      <td>Explainable Artiﬁcial Intelligence Based Fault...</td>\n",
       "    </tr>\n",
       "    <tr>\n",
       "      <th>2001.10056v1</th>\n",
       "      <td>0\\n2\\n0\\n2\\n \\nn\\na\\nJ\\n \\n3\\n2\\n \\n \\n]\\nG\\nL...</td>\n",
       "    </tr>\n",
       "    <tr>\n",
       "      <th>2005.10284v4</th>\n",
       "      <td>An Adversarial Approach for Explaining the Pre...</td>\n",
       "    </tr>\n",
       "    <tr>\n",
       "      <th>1803.03544v2</th>\n",
       "      <td>Explaining Black-box Android Malware Detection...</td>\n",
       "    </tr>\n",
       "  </tbody>\n",
       "</table>\n",
       "<p>480 rows × 1 columns</p>\n",
       "</div>"
      ],
      "text/plain": [
       "                                                           text\n",
       "2004.02353v2  Adaptive Explainable Neural Networks (AxNNs) \\...\n",
       "2007.14677v1  On the Use of Interpretable Machine Learning f...\n",
       "2005.06898v2  0\\n2\\n0\\n2\\n \\ny\\na\\nM\\n8\\n1\\n \\n \\n \\n]\\nL\\nC...\n",
       "2009.06433v1  0\\n2\\n0\\n2\\n \\np\\ne\\nS\\n4\\n1\\n \\n \\n \\n]\\nC\\nH...\n",
       "2004.04019v1  0\\n2\\n0\\n2\\n \\nr\\np\\nA\\n8\\n \\n \\n \\n]\\nT\\nO\\n....\n",
       "...                                                         ...\n",
       "1909.12367v1  9\\n1\\n0\\n2\\n \\np\\ne\\nS\\n6\\n2\\n \\n \\n \\n]\\nG\\nL...\n",
       "2008.04448v1  Explainable Artiﬁcial Intelligence Based Fault...\n",
       "2001.10056v1  0\\n2\\n0\\n2\\n \\nn\\na\\nJ\\n \\n3\\n2\\n \\n \\n]\\nG\\nL...\n",
       "2005.10284v4  An Adversarial Approach for Explaining the Pre...\n",
       "1803.03544v2  Explaining Black-box Android Malware Detection...\n",
       "\n",
       "[480 rows x 1 columns]"
      ]
     },
     "execution_count": 157,
     "metadata": {},
     "output_type": "execute_result"
    }
   ],
   "source": [
    "df"
   ]
  },
  {
   "cell_type": "markdown",
   "metadata": {},
   "source": [
    "### Removing empty papers"
   ]
  },
  {
   "cell_type": "code",
   "execution_count": 158,
   "metadata": {},
   "outputs": [
    {
     "data": {
      "text/plain": [
       "480"
      ]
     },
     "execution_count": 158,
     "metadata": {},
     "output_type": "execute_result"
    }
   ],
   "source": [
    "df = df[~(df['text'].str.len()<MIN_PAPER_LEN)]\n",
    "len(df)"
   ]
  },
  {
   "cell_type": "markdown",
   "metadata": {},
   "source": [
    "# Cleaning"
   ]
  },
  {
   "cell_type": "code",
   "execution_count": 159,
   "metadata": {},
   "outputs": [
    {
     "name": "stderr",
     "output_type": "stream",
     "text": [
      "100%|██████████| 480/480 [00:00<00:00, 2222.60it/s]\n"
     ]
    }
   ],
   "source": [
    "df['cleaned_text']=df.text.progress_apply(papers_processing.clean_text)"
   ]
  },
  {
   "cell_type": "markdown",
   "metadata": {},
   "source": [
    "### Finding beginning of paper content"
   ]
  },
  {
   "cell_type": "code",
   "execution_count": 160,
   "metadata": {},
   "outputs": [
    {
     "name": "stderr",
     "output_type": "stream",
     "text": [
      "100%|██████████| 480/480 [00:13<00:00, 34.41it/s]\n"
     ]
    }
   ],
   "source": [
    "en = English()\n",
    "df['doc'] = df.cleaned_text.progress_apply(en)"
   ]
  },
  {
   "cell_type": "code",
   "execution_count": 184,
   "metadata": {},
   "outputs": [
    {
     "name": "stderr",
     "output_type": "stream",
     "text": [
      "100%|██████████| 480/480 [00:02<00:00, 215.64it/s]\n"
     ]
    }
   ],
   "source": [
    "# Not ideal, need to find better solution\n",
    "BEGINNING_WORDS = ['abstract', 'summary']#, 'introduction']\n",
    "df['beginning'] = df['doc'].apply(find_first, args=(BEGINNING_WORDS,))\n",
    "df['clean_stripped_text'] = df.progress_apply(lambda row: row.doc[row.beginning:].text, axis=1)"
   ]
  },
  {
   "cell_type": "markdown",
   "metadata": {},
   "source": [
    "## Saving"
   ]
  },
  {
   "cell_type": "code",
   "execution_count": 185,
   "metadata": {},
   "outputs": [],
   "source": [
    "notebook_utils.save_texts_series_to_dir(df['clean_stripped_text'], OUTPUT_FOLDER)"
   ]
  }
 ],
 "metadata": {
  "kernelspec": {
   "display_name": "Python 3",
   "language": "python",
   "name": "python3"
  },
  "language_info": {
   "codemirror_mode": {
    "name": "ipython",
    "version": 3
   },
   "file_extension": ".py",
   "mimetype": "text/x-python",
   "name": "python",
   "nbconvert_exporter": "python",
   "pygments_lexer": "ipython3",
   "version": "3.8.3"
  }
 },
 "nbformat": 4,
 "nbformat_minor": 4
}
