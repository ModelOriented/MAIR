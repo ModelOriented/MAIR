{
 "cells": [
  {
   "cell_type": "code",
   "execution_count": null,
   "metadata": {},
   "outputs": [],
   "source": [
    "import pandas as pd\n",
    "import numpy as np"
   ]
  },
  {
   "cell_type": "code",
   "execution_count": null,
   "metadata": {},
   "outputs": [],
   "source": [
    "dr = pd.read_csv('2021.03.19_results.csv')"
   ]
  },
  {
   "cell_type": "markdown",
   "metadata": {},
   "source": [
    "#### Pozbycie się pytań"
   ]
  },
  {
   "cell_type": "code",
   "execution_count": null,
   "metadata": {},
   "outputs": [],
   "source": [
    "index_names_1 = dr[ dr['isQuestion'] == True].index \n",
    "dr.drop(index_names_1, inplace = True)\n",
    "pd.unique(dr['isQuestion'])"
   ]
  },
  {
   "cell_type": "markdown",
   "metadata": {},
   "source": [
    "#### Pozbycie się nie-regulacji (miękkie kryterium)"
   ]
  },
  {
   "cell_type": "code",
   "execution_count": null,
   "metadata": {},
   "outputs": [],
   "source": [
    "list_other =['Report','Research','White paper','Strategy','Policy principles','Declaration','International agreement','Observatory','Policy paper','Ethics guidelines','Resolution','Principles','Action programme','Declaration','Guidelines','Action plan','Guidance','Strategy, Report']\n",
    "for i in list_other:\n",
    "    dr.drop(dr[dr['documentType']==i].index, inplace=True)\n",
    "pd.unique(dr['documentType'])"
   ]
  },
  {
   "cell_type": "markdown",
   "metadata": {},
   "source": [
    "#### Wprowadzenie trzech wartości modalnych"
   ]
  },
  {
   "cell_type": "code",
   "execution_count": null,
   "metadata": {},
   "outputs": [],
   "source": [
    "conditions=[\n",
    "    (dr['modal']=='should'),\n",
    "    (dr['modal']=='shall'),\n",
    "    (dr['modal']=='could'),\n",
    "    (dr['modal']=='can' ),\n",
    "    (dr['modal']=='may'),\n",
    "    (dr['modal']=='might'),\n",
    "    (dr['modal']=='must')\n",
    "    ]\n",
    "values= ['shall', 'shall','can','can','can','can','must']\n",
    "dr['simple_modal']=np.select(conditions,values)\n",
    "\n",
    "pd.unique(dr['simple_modal'])"
   ]
  },
  {
   "cell_type": "markdown",
   "metadata": {},
   "source": [
    "#### Tworzenie listy zaimków \n",
    "Lista zaimków z https://www.thefreedictionary.com/List-of-pronouns.htm"
   ]
  },
  {
   "cell_type": "code",
   "execution_count": null,
   "metadata": {},
   "outputs": [],
   "source": [
    "with open('eng_pronouns.txt','r') as pro:\n",
    "    lines_pro=pro.readlines()\n",
    "list_pro = []\n",
    "for l in lines_pro:\n",
    "    list_temp=l.split(', ')\n",
    "    list_pro.append(list_temp[0].replace('\\n',''))\n",
    "list_pro_c= [e.capitalize() for e in list_pro]"
   ]
  },
  {
   "cell_type": "markdown",
   "metadata": {},
   "source": [
    "#### Usuwanie zaimków z 'subject' i 'passiveSubject'."
   ]
  },
  {
   "cell_type": "code",
   "execution_count": null,
   "metadata": {},
   "outputs": [],
   "source": [
    "for i in list_pro:\n",
    "    dr.drop(dr[dr['subject']==i].index, inplace=True)\n",
    "for i in list_pro_c:\n",
    "    dr.drop(dr[dr['subject']==i].index, inplace=True)\n",
    "for i in list_pro:\n",
    "    dr.drop(dr[dr['passiveSubject']==i].index, inplace=True)\n",
    "for i in list_pro_c:\n",
    "    dr.drop(dr[dr['passiveSubject']==i].index, inplace=True)"
   ]
  },
  {
   "cell_type": "markdown",
   "metadata": {},
   "source": [
    "#### Patrzymy co zostało"
   ]
  },
  {
   "cell_type": "code",
   "execution_count": null,
   "metadata": {},
   "outputs": [],
   "source": [
    "dr_2=dr[dr['documentType']=='Self-regulation']\n",
    "list(pd.unique(dr_2['subject']))"
   ]
  },
  {
   "cell_type": "code",
   "execution_count": null,
   "metadata": {},
   "outputs": [],
   "source": [
    "dr_2=dr[dr['documentType']=='Self-regulation']\n",
    "list(pd.unique(dr_2['passiveSubject']))"
   ]
  },
  {
   "cell_type": "code",
   "execution_count": null,
   "metadata": {},
   "outputs": [],
   "source": [
    "dr_2=dr[dr['documentType']=='Regulation']\n",
    "list(pd.unique(dr_2['subject']))"
   ]
  },
  {
   "cell_type": "code",
   "execution_count": null,
   "metadata": {},
   "outputs": [],
   "source": [
    "dr_2=dr[dr['documentType']=='Regulation']\n",
    "list(pd.unique(dr_2['passiveSubject']))"
   ]
  },
  {
   "cell_type": "code",
   "execution_count": null,
   "metadata": {},
   "outputs": [],
   "source": [
    "dr_2=dr[dr['documentType']=='Proposal']\n",
    "list(pd.unique(dr_2['subject']))"
   ]
  },
  {
   "cell_type": "code",
   "execution_count": null,
   "metadata": {},
   "outputs": [],
   "source": [
    "dr_2=dr[dr['documentType']=='Proposal']\n",
    "list(pd.unique(dr_2['passiveSubject']))"
   ]
  },
  {
   "cell_type": "code",
   "execution_count": null,
   "metadata": {},
   "outputs": [],
   "source": [
    "dr_2=dr[dr['documentType']=='Self-regulation, Policy principles']\n",
    "list(pd.unique(dr_2['subject']))"
   ]
  },
  {
   "cell_type": "code",
   "execution_count": null,
   "metadata": {},
   "outputs": [],
   "source": [
    "dr_2=dr[dr['documentType']=='Self-regulation, Policy principles']\n",
    "list(pd.unique(dr_2['passiveSubject']))"
   ]
  },
  {
   "cell_type": "code",
   "execution_count": null,
   "metadata": {},
   "outputs": [],
   "source": [
    "dr_2=dr[dr['documentType']=='Declaration, International agreement']\n",
    "list(pd.unique(dr_2['subject']))"
   ]
  },
  {
   "cell_type": "code",
   "execution_count": null,
   "metadata": {},
   "outputs": [],
   "source": [
    "dr_2=dr[dr['documentType']=='Declaration, International agreement']\n",
    "list(pd.unique(dr_2['passiveSubject']))"
   ]
  },
  {
   "cell_type": "code",
   "execution_count": null,
   "metadata": {},
   "outputs": [],
   "source": [
    "dr_2=dr[dr['documentType']=='Legislation']\n",
    "list(pd.unique(dr_2['subject']))"
   ]
  },
  {
   "cell_type": "code",
   "execution_count": null,
   "metadata": {},
   "outputs": [],
   "source": [
    "dr_2=dr[dr['documentType']=='Legislation']\n",
    "list(pd.unique(dr_2['passiveSubject']))"
   ]
  },
  {
   "cell_type": "code",
   "execution_count": null,
   "metadata": {},
   "outputs": [],
   "source": [
    "dr_2=dr[dr['documentType']=='Bill']\n",
    "list(pd.unique(dr_2['subject']))"
   ]
  },
  {
   "cell_type": "code",
   "execution_count": null,
   "metadata": {},
   "outputs": [],
   "source": [
    "dr_2=dr[dr['documentType']=='Bill']\n",
    "list(pd.unique(dr_2['passiveSubject']))"
   ]
  },
  {
   "cell_type": "code",
   "execution_count": null,
   "metadata": {},
   "outputs": [],
   "source": [
    "dr_2=dr[dr['documentType']=='Code of practice']\n",
    "list(pd.unique(dr_2['subject']))"
   ]
  },
  {
   "cell_type": "code",
   "execution_count": null,
   "metadata": {},
   "outputs": [],
   "source": [
    "dr_2=dr[dr['documentType']=='Code of practice']\n",
    "list(pd.unique(dr_2['passiveSubject']))"
   ]
  },
  {
   "cell_type": "markdown",
   "metadata": {},
   "source": [
    "Co trzeb zrobić:\n",
    "    + wyrzucić nie-regulacje; DONE!\n",
    "    + wyrzucić zaimki i przydawki z podmiotów (wszystkich klas podmiotów); DONE!\n",
    "    + zobaczyć jakie zestawy (podmiot; deontic; orzeczenie);\n",
    "        - strona czynna -> jakiego aktora działanie jest regulowane;\n",
    "        - strona bierna -> działanie wobec jakiego obiektu jest regulowane;\n",
    "    + skrosować to z krajami; typami regulacji."
   ]
  }
 ],
 "metadata": {
  "kernelspec": {
   "display_name": "Python 3",
   "language": "python",
   "name": "python3"
  },
  "language_info": {
   "codemirror_mode": {
    "name": "ipython",
    "version": 3
   },
   "file_extension": ".py",
   "mimetype": "text/x-python",
   "name": "python",
   "nbconvert_exporter": "python",
   "pygments_lexer": "ipython3",
   "version": "3.8.5"
  }
 },
 "nbformat": 4,
 "nbformat_minor": 2
}
