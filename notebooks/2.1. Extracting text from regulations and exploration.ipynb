{
 "cells": [
  {
   "cell_type": "code",
   "execution_count": null,
   "metadata": {},
   "outputs": [],
   "source": [
    "from mair.pdf_parsing import parse\n",
    "import glob\n",
    "import spacy\n",
    "from collections import Counter\n",
    "from tqdm import tqdm"
   ]
  },
  {
   "cell_type": "code",
   "execution_count": null,
   "metadata": {},
   "outputs": [],
   "source": [
    "pdfs = []\n",
    "for filename in glob.glob('../regulations/*.pdf'):\n",
    "    try:\n",
    "        pdf = parse(filename)\n",
    "        pdfs.append(pdf)\n",
    "    except Exception as e:\n",
    "        print(f\"Error parsing ({filename}):\", e)"
   ]
  },
  {
   "cell_type": "code",
   "execution_count": null,
   "metadata": {},
   "outputs": [],
   "source": [
    "len(pdfs)"
   ]
  },
  {
   "cell_type": "code",
   "execution_count": null,
   "metadata": {},
   "outputs": [],
   "source": [
    "text = pdfs[1].full_text\n",
    "print(text)"
   ]
  },
  {
   "cell_type": "code",
   "execution_count": null,
   "metadata": {},
   "outputs": [],
   "source": [
    "text = text.replace('\\n', '')"
   ]
  },
  {
   "cell_type": "code",
   "execution_count": null,
   "metadata": {},
   "outputs": [],
   "source": [
    "en = spacy.load('en_core_web_lg') # if not working run `python -m spacy download en_core_web_lg` "
   ]
  },
  {
   "cell_type": "code",
   "execution_count": null,
   "metadata": {},
   "outputs": [],
   "source": [
    "doc=en(text)"
   ]
  },
  {
   "cell_type": "code",
   "execution_count": null,
   "metadata": {},
   "outputs": [],
   "source": [
    "spacy.displacy.render(doc, style='ent', jupyter=True)"
   ]
  },
  {
   "cell_type": "markdown",
   "metadata": {},
   "source": [
    "### Filtering and counting labels"
   ]
  },
  {
   "cell_type": "code",
   "execution_count": null,
   "metadata": {},
   "outputs": [],
   "source": [
    "entities = [ent for ent in doc.ents if ent.label_ not in {'CARDINAL', 'DATE', 'TIME', 'ORDINAL', 'MONEY', 'PERCENT'}]\n",
    "labels = Counter([ent.label_ for ent in entities])\n",
    "labels"
   ]
  },
  {
   "cell_type": "markdown",
   "metadata": {},
   "source": [
    "### Checking organizations"
   ]
  },
  {
   "cell_type": "code",
   "execution_count": null,
   "metadata": {},
   "outputs": [],
   "source": [
    "[ent for ent in entities if ent.label_=='ORG']"
   ]
  },
  {
   "cell_type": "markdown",
   "metadata": {},
   "source": [
    "## Global analysis"
   ]
  },
  {
   "cell_type": "code",
   "execution_count": null,
   "metadata": {},
   "outputs": [],
   "source": [
    "text = pdfs[2].full_text\n",
    "text = text.replace('\\n', '')\n",
    "doc=en(text)"
   ]
  },
  {
   "cell_type": "code",
   "execution_count": null,
   "metadata": {},
   "outputs": [],
   "source": [
    "entities = [\n",
    "    ent\n",
    "    for ent in doc.ents\n",
    "    if ent.label_ not in {\"CARDINAL\", \"DATE\", \"TIME\", \"ORDINAL\", \"MONEY\", \"PERCENT\"}\n",
    "]\n",
    "labels = Counter([ent.label_ for ent in entities])\n",
    "labels"
   ]
  },
  {
   "cell_type": "code",
   "execution_count": null,
   "metadata": {},
   "outputs": [],
   "source": [
    "[ent for ent in entities if ent.label_=='ORG']"
   ]
  },
  {
   "cell_type": "code",
   "execution_count": null,
   "metadata": {},
   "outputs": [],
   "source": [
    "docs =[]\n",
    "for pdf in tqdm(pdfs):\n",
    "    text = pdf.full_text.replace('\\n','')\n",
    "    doc = en(text)\n",
    "    docs.append(doc)"
   ]
  },
  {
   "cell_type": "code",
   "execution_count": null,
   "metadata": {},
   "outputs": [],
   "source": [
    "entities = [\n",
    "    ent\n",
    "    for doc in docs\n",
    "    for ent in doc.ents\n",
    "    if ent.label_ not in {\"CARDINAL\", \"DATE\", \"TIME\", \"ORDINAL\", \"MONEY\", \"PERCENT\"}\n",
    "]\n",
    "labels = Counter([ent.label_ for ent in entities])\n",
    "labels"
   ]
  },
  {
   "cell_type": "code",
   "execution_count": null,
   "metadata": {},
   "outputs": [],
   "source": []
  }
 ],
 "metadata": {
  "kernelspec": {
   "display_name": "Python 3",
   "language": "python",
   "name": "python3"
  },
  "language_info": {
   "codemirror_mode": {
    "name": "ipython",
    "version": 3
   },
   "file_extension": ".py",
   "mimetype": "text/x-python",
   "name": "python",
   "nbconvert_exporter": "python",
   "pygments_lexer": "ipython3",
   "version": "3.8.3"
  }
 },
 "nbformat": 4,
 "nbformat_minor": 4
}
