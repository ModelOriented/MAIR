{
 "cells": [
  {
   "cell_type": "code",
   "execution_count": null,
   "metadata": {},
   "outputs": [],
   "source": [
    "import pandas as pd\n",
    "from mair.pdf_parsing import parse\n",
    "from glob import glob\n",
    "from tqdm import tqdm\n",
    "import os\n",
    "import json\n",
    "import spacy\n",
    "from collections import defaultdict\n",
    "from spacy import displacy\n",
    "from mair.data_loading import load_legal_documents, load_legal_documents_metadata\n",
    "from mair.doc_ids import legal_doc_path_to_id"
   ]
  },
  {
   "cell_type": "code",
   "execution_count": null,
   "metadata": {},
   "outputs": [],
   "source": [
    "nlp=spacy.load('en_core_web_sm')\n",
    "nlp.max_length=3000000\n",
    "tqdm.pandas()\n",
    "os.chdir('../..')"
   ]
  },
  {
   "cell_type": "code",
   "execution_count": null,
   "metadata": {},
   "outputs": [],
   "source": [
    "# df = pd.read_csv(\"../data/oecd_meta.csv\")\n",
    "MODAL_VERBS = [\n",
    "    \"can\",\n",
    "    \"could\",\n",
    "    \"may\",\n",
    "    \"might\",\n",
    "#     \"will\",\n",
    "#     \"would\",\n",
    "    \"shall\",\n",
    "    \"should\",\n",
    "    \"must\",\n",
    "]"
   ]
  },
  {
   "cell_type": "code",
   "execution_count": null,
   "metadata": {},
   "outputs": [],
   "source": [
    "texts = load_legal_documents()\n",
    "results = {t: nlp(text) for t, text in tqdm(texts.items())}"
   ]
  },
  {
   "cell_type": "code",
   "execution_count": null,
   "metadata": {},
   "outputs": [],
   "source": [
    "df = pd.Series(results, name='doc')\n",
    "df = df.reset_index()\n",
    "df = df.set_index('index')\n",
    "docs = df['doc']"
   ]
  },
  {
   "cell_type": "code",
   "execution_count": null,
   "metadata": {},
   "outputs": [],
   "source": [
    "def find_subjects(verb_token, modal_token):\n",
    "    subject = [child for child in verb_token.children if child.dep_ == \"nsubj\"]\n",
    "    passive_subject = [child for child in verb.children if child.dep_ == \"nsubjpass\"]\n",
    "    csubj = [\n",
    "        c\n",
    "        for child in verb.children\n",
    "        if child.dep_ == \"csubj\"\n",
    "        for c in child.children\n",
    "        if c.dep_ == \"nsubj\"\n",
    "    ]\n",
    "    if len(subject) == 0 and len(passive_subject) == 0:\n",
    "        if verb_token.dep_ == \"conj\":\n",
    "            head = verb_token.head\n",
    "            subject = [child for child in head.children if child.dep_ == \"nsubj\"]\n",
    "            passive_subject = [\n",
    "                child for child in head.children if child.dep_ == \"nsubjpass\"\n",
    "            ]\n",
    "    if len(subject) == 0 and len(passive_subject) == 0:\n",
    "        subject = [child for child in modal_token.children if child.dep_ == \"nsubj\"]\n",
    "        passive_subject = [\n",
    "            child for child in modal_token.children if child.dep_ == \"nsubjpass\"\n",
    "        ]\n",
    "\n",
    "    return subject, passive_subject, csubj"
   ]
  },
  {
   "cell_type": "code",
   "execution_count": null,
   "metadata": {},
   "outputs": [],
   "source": [
    "# modal_sentences = defaultdict(list)\n",
    "results = []\n",
    "for id, doc in docs.iteritems():\n",
    "    for token in doc:\n",
    "        modal = token.lemma_.lower()\n",
    "        if modal in MODAL_VERBS:\n",
    "            verb = next(token.ancestors, \"\")\n",
    "            if len(verb) != 0:\n",
    "                subject, passive_subject, clausal_subject = find_subjects(verb, token)\n",
    "            else:\n",
    "                subject = \"\"\n",
    "                passive_subject = \"\"\n",
    "\n",
    "            is_question = (token.sent[-1].norm_ == \"?\" or token.sent[-2].norm_ == \"?\")\n",
    "            result = {\n",
    "                \"modal\": modal,\n",
    "                \"sent\": token.sent,  # .text.replace('\\n', ' '),\n",
    "                \"doc_id\": id,\n",
    "                \"verb\": verb,\n",
    "                \"subject\": subject,\n",
    "                \"passiveSubject\": passive_subject,\n",
    "                \"clausalSubject\": clausal_subject,\n",
    "                \"token\": token,\n",
    "                \"isQuestion\": is_question,\n",
    "            }\n",
    "            results.append(result)"
   ]
  },
  {
   "cell_type": "code",
   "execution_count": null,
   "metadata": {},
   "outputs": [],
   "source": [
    "result_df = pd.DataFrame(results)"
   ]
  },
  {
   "cell_type": "code",
   "execution_count": null,
   "metadata": {},
   "outputs": [],
   "source": [
    "df2 = result_df[~(result_df.verb.str.len()==0)]\n",
    "df3 = df2[\n",
    "    (df2[\"subject\"].str.len() == 0)\n",
    "    & (df2[\"passiveSubject\"].str.len() == 0)\n",
    "    & (df2[\"clausalSubject\"].str.len() == 0)\n",
    "]"
   ]
  },
  {
   "cell_type": "code",
   "execution_count": null,
   "metadata": {},
   "outputs": [],
   "source": [
    "row = df3.iloc[4]\n",
    "print(row.sent)\n",
    "row"
   ]
  },
  {
   "cell_type": "code",
   "execution_count": null,
   "metadata": {},
   "outputs": [],
   "source": [
    "result_df['sent'] = result_df['sent'].apply(lambda sent: sent.text.replace('\\n', ' '),)\n",
    "result_df['subject'] = result_df['subject'].str[0]\n",
    "result_df['passiveSubject'] = result_df['passiveSubject'].str[0]\n",
    "result_df['clausalSubject'] = result_df['clausalSubject'].str[0]\n",
    "result_df['id']=result_df['doc_id'].apply(legal_doc_path_to_id)"
   ]
  },
  {
   "cell_type": "code",
   "execution_count": null,
   "metadata": {},
   "outputs": [],
   "source": [
    "df_meta = load_legal_documents_metadata()\n",
    "results = result_df.merge(df_meta, on='id')"
   ]
  },
  {
   "cell_type": "code",
   "execution_count": null,
   "metadata": {},
   "outputs": [],
   "source": [
    "results.to_csv('data/results.csv')"
   ]
  },
  {
   "cell_type": "code",
   "execution_count": null,
   "metadata": {},
   "outputs": [],
   "source": [
    "for id, doc in docs.iteritems():\n"
   ]
  },
  {
   "cell_type": "code",
   "execution_count": null,
   "metadata": {},
   "outputs": [],
   "source": [
    "len(list(doc.sents))"
   ]
  },
  {
   "cell_type": "code",
   "execution_count": null,
   "metadata": {},
   "outputs": [],
   "source": [
    "list(doc.sents)[-5]"
   ]
  },
  {
   "cell_type": "code",
   "execution_count": null,
   "metadata": {},
   "outputs": [],
   "source": [
    "displacy.serve(row.sent)"
   ]
  },
  {
   "cell_type": "code",
   "execution_count": null,
   "metadata": {},
   "outputs": [],
   "source": [
    "displacy.serve(result_df.sent.iloc[0])"
   ]
  },
  {
   "cell_type": "code",
   "execution_count": null,
   "metadata": {},
   "outputs": [],
   "source": [
    "result_df.iloc[2].sent"
   ]
  },
  {
   "cell_type": "code",
   "execution_count": null,
   "metadata": {},
   "outputs": [],
   "source": [
    "result_df.iloc[2]"
   ]
  },
  {
   "cell_type": "code",
   "execution_count": null,
   "metadata": {},
   "outputs": [],
   "source": [
    "displacy.serve(result_df.iloc[2].sent)"
   ]
  },
  {
   "cell_type": "code",
   "execution_count": null,
   "metadata": {},
   "outputs": [],
   "source": []
  }
 ],
 "metadata": {
  "kernelspec": {
   "display_name": "Python 3",
   "language": "python",
   "name": "python3"
  },
  "language_info": {
   "codemirror_mode": {
    "name": "ipython",
    "version": 3
   },
   "file_extension": ".py",
   "mimetype": "text/x-python",
   "name": "python",
   "nbconvert_exporter": "python",
   "pygments_lexer": "ipython3",
   "version": "3.8.3"
  }
 },
 "nbformat": 4,
 "nbformat_minor": 5
}
