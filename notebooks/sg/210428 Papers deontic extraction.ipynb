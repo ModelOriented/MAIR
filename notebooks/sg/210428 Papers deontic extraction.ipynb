{
 "cells": [
  {
   "cell_type": "code",
   "execution_count": null,
   "metadata": {},
   "outputs": [],
   "source": [
    "%load_ext autoreload\n",
    "%autoreload 2\n",
    "from mair.data_loading import load_parsed_arxiv_papers\n",
    "import pandas as pd\n",
    "from mair import deontics\n",
    "import os\n",
    "import mair.doc_ids\n",
    "os.chdir('..')"
   ]
  },
  {
   "cell_type": "code",
   "execution_count": null,
   "metadata": {},
   "outputs": [],
   "source": [
    "docs = load_parsed_arxiv_papers()"
   ]
  },
  {
   "cell_type": "code",
   "execution_count": null,
   "metadata": {},
   "outputs": [],
   "source": [
    "result_df = deontics.get_deontic_sentences_table(docs)"
   ]
  },
  {
   "cell_type": "code",
   "execution_count": null,
   "metadata": {},
   "outputs": [],
   "source": [
    "final_df = pd.DataFrame()\n",
    "final_df[\"id\"] = result_df[\"raw_text_path\"].apply(mair.doc_ids.legal_doc_path_to_id)\n",
    "final_df[\"verb\"] = result_df[\"verb\"].apply(lambda t: t.lemma_.lower())\n",
    "final_df[\"subject\"] = result_df.apply(\n",
    "    lambda row: mair.deontics.final_subjects(row[\"subject\"], row[\"subjectCoref\"]),\n",
    "    axis=1,\n",
    ")\n",
    "final_df[\"sent\"] = result_df[\"sent\"].apply(\n",
    "    lambda sent: sent.text.replace(\"\\n\", \" \")\n",
    ")\n",
    "final_df[\"modal\"] = result_df[\"modal\"]\n",
    "final_df[\"isQuestion\"] = result_df[\"isQuestion\"]\n",
    "final_df[\"negated\"] = result_df[\"negated\"]\n"
   ]
  },
  {
   "cell_type": "code",
   "execution_count": null,
   "metadata": {},
   "outputs": [],
   "source": [
    "final_df = final_df.explode(\"subject\")"
   ]
  },
  {
   "cell_type": "code",
   "execution_count": null,
   "metadata": {},
   "outputs": [],
   "source": [
    "final_df.to_csv(\"deontics_in_papers.csv\", index=False)"
   ]
  },
  {
   "cell_type": "code",
   "execution_count": null,
   "metadata": {},
   "outputs": [],
   "source": []
  }
 ],
 "metadata": {
  "kernelspec": {
   "display_name": "Python 3",
   "language": "python",
   "name": "python3"
  },
  "language_info": {
   "codemirror_mode": {
    "name": "ipython",
    "version": 3
   },
   "file_extension": ".py",
   "mimetype": "text/x-python",
   "name": "python",
   "nbconvert_exporter": "python",
   "pygments_lexer": "ipython3",
   "version": "3.8.3"
  }
 },
 "nbformat": 4,
 "nbformat_minor": 4
}
