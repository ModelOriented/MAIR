{
 "cells": [
  {
   "cell_type": "code",
   "execution_count": null,
   "metadata": {},
   "outputs": [],
   "source": [
    "import pandas as pd\n",
    "import plotly.express as px\n"
   ]
  },
  {
   "cell_type": "code",
   "execution_count": null,
   "metadata": {},
   "outputs": [],
   "source": [
    "df = pd.read_csv('../data/nesta_ai_governance_docs/meta.csv')"
   ]
  },
  {
   "cell_type": "code",
   "execution_count": null,
   "metadata": {},
   "outputs": [],
   "source": [
    "df.documentType.hist()"
   ]
  },
  {
   "cell_type": "code",
   "execution_count": null,
   "metadata": {},
   "outputs": [],
   "source": [
    "df.documentType.unique()"
   ]
  },
  {
   "cell_type": "code",
   "execution_count": null,
   "metadata": {},
   "outputs": [],
   "source": [
    "regulations = {\n",
    "    \"Bill\",\n",
    "    \"Local law\",\n",
    "    \"State legislation\",\n",
    "    \"Directive\",\n",
    "    \"Regulation\",\n",
    "    \"Resolution\",\n",
    "    \"Local law, Task force\",\n",
    "    \"Legislation\",\n",
    "    \"Pilot, Regulation\",\n",
    "    \"Federal law\",\n",
    "}\n",
    "\n",
    "mapping = {a: 'regulation' if a in regulations else 'not regulation' for a in [\n",
    "    \"Guidance\",\n",
    "    \"Bill\",\n",
    "    \"Strategy\",\n",
    "    \"Guidelines\",\n",
    "    \"Action plan\",\n",
    "    \"White paper\",\n",
    "    \"Local law\",\n",
    "    \"Report\",\n",
    "    \"Principles\",\n",
    "    \"Strategy, Report\",\n",
    "    \"State legislation\",\n",
    "    \"Policy\",\n",
    "    \"Directive\",\n",
    "    \"Education\",\n",
    "    \"Proposal\",\n",
    "    \"Ethics guidelines\",\n",
    "    \"Research\",\n",
    "    \"Self-regulation\",\n",
    "    \"Action programme\",\n",
    "    \"Advisory body\",\n",
    "    \"Pilot\",\n",
    "    \"Standardisation\",\n",
    "    \"Declaration\",\n",
    "    \"Treaty\",\n",
    "    \"Network, Strategy\",\n",
    "    \"Regulation\",\n",
    "    \"Resolution\",\n",
    "    \"Observatory\",\n",
    "    \"Partnership\",\n",
    "    \"Working group\",\n",
    "    \"Self-regulation, Standardisation\",\n",
    "    \"Proposed law\",\n",
    "    \"Partnership, International agreement\",\n",
    "    \"Network\",\n",
    "    \"Government body\",\n",
    "    \"International agreement\",\n",
    "    \"Proposed regulation\",\n",
    "    \"Local law, Task force\",\n",
    "    \"Self-regulation, Ethics guidelines\",\n",
    "    \"Declaration, International agreement\",\n",
    "    \"Statement\",\n",
    "    \"Task force\",\n",
    "    \"Legislation\",\n",
    "    \"Self-regulation, Policy principles\",\n",
    "    \"Test environment\",\n",
    "    \"Resource\",\n",
    "    \"Pilot, Regulation\",\n",
    "    \"Select Committee\",\n",
    "    \"Caucus\",\n",
    "    \"Opinion, Ethics guidelines\",\n",
    "    \"Policy paper\",\n",
    "    \"Code of practice\",\n",
    "    \"Government community\",\n",
    "    \"Policy briefing\",\n",
    "    \"Federal law\",\n",
    "]}"
   ]
  },
  {
   "cell_type": "code",
   "execution_count": null,
   "metadata": {},
   "outputs": [],
   "source": [
    "df['Is a regulation?'] = df.documentType.map(mapping)"
   ]
  },
  {
   "cell_type": "code",
   "execution_count": null,
   "metadata": {},
   "outputs": [],
   "source": [
    "fig = px.histogram(df, x='Is a regulation?')\n",
    "fig.show()\n"
   ]
  },
  {
   "cell_type": "code",
   "execution_count": null,
   "metadata": {},
   "outputs": [],
   "source": [
    "fig = px.histogram(\n",
    "    df[df[\"Is a regulation?\"] == \"regulation\"], x=\"country\"\n",
    ").update_xaxes(categoryorder=\"total descending\")\n",
    "fig.show()"
   ]
  },
  {
   "cell_type": "code",
   "execution_count": null,
   "metadata": {},
   "outputs": [],
   "source": [
    "dff = df.groupby(['Is a regulation?','year']).agg('count')['id'].rename('count').reset_index()"
   ]
  },
  {
   "cell_type": "code",
   "execution_count": null,
   "metadata": {},
   "outputs": [],
   "source": [
    "dff"
   ]
  },
  {
   "cell_type": "code",
   "execution_count": null,
   "metadata": {},
   "outputs": [],
   "source": [
    "px.line(dff, x='year', y='count', color='Is a regulation?', log_y=True)"
   ]
  },
  {
   "cell_type": "code",
   "execution_count": null,
   "metadata": {},
   "outputs": [],
   "source": []
  }
 ],
 "metadata": {
  "kernelspec": {
   "display_name": "Python 3",
   "language": "python",
   "name": "python3"
  },
  "language_info": {
   "codemirror_mode": {
    "name": "ipython",
    "version": 3
   },
   "file_extension": ".py",
   "mimetype": "text/x-python",
   "name": "python",
   "nbconvert_exporter": "python",
   "pygments_lexer": "ipython3",
   "version": "3.8.3"
  }
 },
 "nbformat": 4,
 "nbformat_minor": 4
}
