{
 "cells": [
  {
   "cell_type": "code",
   "execution_count": null,
   "metadata": {},
   "outputs": [],
   "source": [
    "import requests\n",
    "import os\n",
    "import glob\n",
    "import json\n",
    "from tqdm import tqdm "
   ]
  },
  {
   "cell_type": "code",
   "execution_count": null,
   "metadata": {},
   "outputs": [],
   "source": [
    "PARSE_ENDPOINT = 'http://localhost:8080/v1'\n",
    "INPUT_FOLDER = \"../data/arxiv_dump/papers/\"\n",
    "OUTPUT_FOLDER = \"../data/arxiv_dump/sci-parse_output/\"\n",
    "pdfs_path = os.path.join(INPUT_FOLDER, \"*.pdf\")"
   ]
  },
  {
   "cell_type": "code",
   "execution_count": null,
   "metadata": {},
   "outputs": [],
   "source": [
    "if not os.path.exists(OUTPUT_FOLDER):\n",
    "    os.mkdir(OUTPUT_FOLDER)\n",
    "\n",
    "for pdf_filepath in tqdm(list(glob.glob(pdfs_path))):\n",
    "    try:\n",
    "        with open(pdf_filepath, \"rb\") as f:\n",
    "            data = f.read()\n",
    "        res = requests.post(\n",
    "            url=PARSE_ENDPOINT, data=data, headers={\"Content-Type\": \"application/pdf\"}\n",
    "        )\n",
    "        parsed_data = res.json()\n",
    "    except Exception as e:\n",
    "        print(f\"Error parsing ({pdf_filepath}):\", e)\n",
    "    else:\n",
    "        try:\n",
    "            pdf_filename = pdf_filepath.split(\"/\")[-1]\n",
    "            out_file_path = os.path.join(OUTPUT_FOLDER, pdf_filename).replace(\n",
    "                \".pdf\", \".json\"\n",
    "            )\n",
    "            with open(out_file_path, \"w\") as f:\n",
    "                json.dump(parsed_data, f)\n",
    "        except Exception as e:\n",
    "            print(f\"Error saving ({out_file_path}):\", e)"
   ]
  },
  {
   "cell_type": "code",
   "execution_count": null,
   "metadata": {},
   "outputs": [],
   "source": []
  }
 ],
 "metadata": {
  "kernelspec": {
   "display_name": "Python 3",
   "language": "python",
   "name": "python3"
  },
  "language_info": {
   "codemirror_mode": {
    "name": "ipython",
    "version": 3
   },
   "file_extension": ".py",
   "mimetype": "text/x-python",
   "name": "python",
   "nbconvert_exporter": "python",
   "pygments_lexer": "ipython3",
   "version": "3.8.3"
  }
 },
 "nbformat": 4,
 "nbformat_minor": 4
}
