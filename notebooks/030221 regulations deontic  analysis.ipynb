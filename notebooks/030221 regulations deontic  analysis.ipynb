{
 "cells": [
  {
   "cell_type": "code",
   "execution_count": null,
   "metadata": {},
   "outputs": [],
   "source": [
    "import pandas as pd\n",
    "from mair.pdf_parsing import parse\n",
    "from glob import glob\n",
    "from tqdm import tqdm\n",
    "import os\n",
    "import json\n",
    "import spacy\n",
    "from collections import defaultdict"
   ]
  },
  {
   "cell_type": "code",
   "execution_count": null,
   "metadata": {},
   "outputs": [],
   "source": [
    "nlp=spacy.load('en_core_web_sm')\n",
    "nlp.max_length=3000000\n",
    "tqdm.pandas()\n"
   ]
  },
  {
   "cell_type": "code",
   "execution_count": null,
   "metadata": {},
   "outputs": [],
   "source": [
    "df = pd.read_csv(\"../data/oecd_meta.csv\")\n",
    "MODAL_VERBS = [\n",
    "    \"can\",\n",
    "    \"could\",\n",
    "    \"may\",\n",
    "    \"might\",\n",
    "    \"will\",\n",
    "    \"would\",\n",
    "    \"shall\",\n",
    "    \"should\",\n",
    "    \"must\",\n",
    "]"
   ]
  },
  {
   "cell_type": "code",
   "execution_count": null,
   "metadata": {},
   "outputs": [],
   "source": [
    "paths = glob(\"../data/oecd_docs/*.pdf\")\n",
    "# filenames =[path.split('/')[-1] for path in paths]"
   ]
  },
  {
   "cell_type": "code",
   "execution_count": null,
   "metadata": {},
   "outputs": [],
   "source": [
    "results = {}\n",
    "for path in tqdm(paths):\n",
    "    try:\n",
    "        results[os.path.basename(path)] = parse(path).full_text\n",
    "    except Exception as e:\n",
    "        print(f\"error parsing {path} ({e}), passing...\")"
   ]
  },
  {
   "cell_type": "code",
   "execution_count": null,
   "metadata": {},
   "outputs": [],
   "source": [
    "json.dump(results, open(\"../data/oecd_docs_texts.json\", \"w\"))"
   ]
  },
  {
   "cell_type": "code",
   "execution_count": null,
   "metadata": {},
   "outputs": [],
   "source": [
    "raw_texts = pd.Series(results)"
   ]
  },
  {
   "cell_type": "code",
   "execution_count": null,
   "metadata": {},
   "outputs": [],
   "source": [
    "docs = raw_texts.progress_apply(nlp)"
   ]
  },
  {
   "cell_type": "code",
   "execution_count": null,
   "metadata": {},
   "outputs": [],
   "source": [
    "# modal_sentences = defaultdict(list)\n",
    "results = []\n",
    "for id, doc in docs.iteritems():\n",
    "    for t in doc:\n",
    "        verb = t.lemma_.lower()\n",
    "        if verb in MODAL_VERBS:\n",
    "            a=t\n",
    "            result = {\n",
    "                \"verb\": verb,\n",
    "                \"sent\": t.sent.text.replace('\\n', ' '),\n",
    "                \"doc_id\": id,\n",
    "                'ancestor': next(t.ancestors, '')\n",
    "            }\n",
    "            results.append(result)"
   ]
  },
  {
   "cell_type": "code",
   "execution_count": null,
   "metadata": {},
   "outputs": [],
   "source": [
    "result_df = pd.DataFrame(results)"
   ]
  },
  {
   "cell_type": "code",
   "execution_count": null,
   "metadata": {},
   "outputs": [],
   "source": [
    "result_df.to_csv('../data/processed/modals_sentences.csv', index=False)"
   ]
  },
  {
   "cell_type": "code",
   "execution_count": null,
   "metadata": {},
   "outputs": [],
   "source": []
  }
 ],
 "metadata": {
  "kernelspec": {
   "display_name": "Python 3",
   "language": "python",
   "name": "python3"
  },
  "language_info": {
   "codemirror_mode": {
    "name": "ipython",
    "version": 3
   },
   "file_extension": ".py",
   "mimetype": "text/x-python",
   "name": "python",
   "nbconvert_exporter": "python",
   "pygments_lexer": "ipython3",
   "version": "3.8.3"
  }
 },
 "nbformat": 4,
 "nbformat_minor": 5
}
